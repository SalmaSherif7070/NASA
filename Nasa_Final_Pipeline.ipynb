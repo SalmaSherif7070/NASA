{
  "cells": [
    {
      "cell_type": "markdown",
      "metadata": {
        "id": "BPMYJWYp62Wo"
      },
      "source": [
        "# 📦 Imports"
      ]
    },
    {
      "cell_type": "code",
      "execution_count": 2,
      "metadata": {
        "id": "NR5jjspq7Lbk"
      },
      "outputs": [],
      "source": [
        "import pandas as pd\n",
        "import numpy as np\n",
        "import joblib\n",
        "import logging\n",
        "from typing import List, Dict, Any\n",
        "\n",
        "from sklearn.model_selection import train_test_split, StratifiedKFold, cross_val_score\n",
        "from sklearn.preprocessing import StandardScaler\n",
        "from sklearn.impute import SimpleImputer\n",
        "from sklearn.pipeline import Pipeline\n",
        "from sklearn.compose import ColumnTransformer\n",
        "from sklearn.ensemble import RandomForestClassifier, StackingClassifier\n",
        "from sklearn.linear_model import LogisticRegression\n",
        "from sklearn.metrics import (accuracy_score, precision_score, recall_score, f1_score,\n",
        "                             classification_report, confusion_matrix, roc_auc_score)\n",
        "\n",
        "import lightgbm as lgb\n",
        "from xgboost import XGBClassifier"
      ]
    },
    {
      "cell_type": "markdown",
      "metadata": {
        "id": "OPIJ5Jdu7NOz"
      },
      "source": [
        "# Logging config"
      ]
    },
    {
      "cell_type": "code",
      "execution_count": 3,
      "metadata": {
        "id": "zj18gtX-7Psw"
      },
      "outputs": [],
      "source": [
        "logging.basicConfig(\n",
        "    level=logging.INFO,\n",
        "    format=\"%(asctime)s %(levelname)s %(message)s\"\n",
        ")\n",
        "logger = logging.getLogger(\"exo_model_pipeline\")"
      ]
    },
    {
      "cell_type": "markdown",
      "metadata": {
        "id": "c8NnKK6T7RPr"
      },
      "source": [
        "# 📥 Data Loading Helpers"
      ]
    },
    {
      "cell_type": "code",
      "execution_count": 4,
      "metadata": {
        "id": "Fap3f_BN7Ymb"
      },
      "outputs": [],
      "source": [
        "def read_with_fallback(path: str) -> pd.DataFrame:\n",
        "    \"\"\"Try reading as comma-separated, fallback to tab-separated if needed.\"\"\"\n",
        "    try:\n",
        "        df = pd.read_csv(path, sep=\",\", comment=\"#\", low_memory=False)\n",
        "    except Exception:\n",
        "        df = pd.read_csv(path, sep=\"\\t\", comment=\"#\", low_memory=False)\n",
        "    if df.shape[1] == 1:  # fallback if single column\n",
        "        df = pd.read_csv(path, sep=\"\\t\", comment=\"#\", low_memory=False)\n",
        "    logger.info(\"Loaded %s with shape %s\", path, df.shape)\n",
        "    return df"
      ]
    },
    {
      "cell_type": "markdown",
      "metadata": {
        "id": "Z55MOg2M7bmW"
      },
      "source": [
        "# 🔧 Utility Functions"
      ]
    },
    {
      "cell_type": "code",
      "execution_count": 5,
      "metadata": {
        "id": "TsOs8TYV7c7w"
      },
      "outputs": [],
      "source": [
        "def compute_baseline_stats(X: pd.DataFrame) -> Dict[str, Dict[str, float]]:\n",
        "    \"\"\"Compute mean/std for each feature for drift checking.\"\"\"\n",
        "    stats = {}\n",
        "    for c in X.columns:\n",
        "        col = pd.to_numeric(X[c], errors=\"coerce\")\n",
        "        stats[c] = {\n",
        "            \"mean\": float(np.nanmean(col)),\n",
        "            \"std\": float(np.nanstd(col)),\n",
        "            \"count\": int(np.sum(~np.isnan(col)))\n",
        "        }\n",
        "    return stats"
      ]
    },
    {
      "cell_type": "code",
      "execution_count": 6,
      "metadata": {
        "id": "NYTP99qE7eEi"
      },
      "outputs": [],
      "source": [
        "def save_artifacts(model: Pipeline, model_path: str,\n",
        "                   metadata: Dict[str, Any], meta_path: str):\n",
        "    joblib.dump(model, model_path)\n",
        "    joblib.dump(metadata, meta_path)\n",
        "    logger.info(\"Artifacts saved to %s and %s\", model_path, meta_path)"
      ]
    },
    {
      "cell_type": "markdown",
      "metadata": {
        "id": "DObdj2KC7g9n"
      },
      "source": [
        "# ⚙️ Build Pipeline"
      ]
    },
    {
      "cell_type": "code",
      "execution_count": 8,
      "metadata": {
        "id": "5-AKSmcY7ijB"
      },
      "outputs": [],
      "source": [
        "def build_pipeline(n_jobs: int = -1) -> Pipeline:\n",
        "    numeric_transformer = Pipeline(steps=[\n",
        "        (\"imputer\", SimpleImputer(strategy=\"median\")),\n",
        "        (\"scaler\", StandardScaler())\n",
        "    ])\n",
        "\n",
        "    estimators = [\n",
        "        (\"rf\", RandomForestClassifier(n_estimators=200, random_state=42)),\n",
        "        (\"xgb\", XGBClassifier(use_label_encoder=False, eval_metric=\"mlogloss\", random_state=42)),\n",
        "        (\"lgbm\", lgb.LGBMClassifier(random_state=42))\n",
        "    ]\n",
        "\n",
        "    stacking_clf = StackingClassifier(\n",
        "        estimators=estimators,\n",
        "        final_estimator=LogisticRegression(max_iter=500, multi_class=\"multinomial\"),\n",
        "        cv=5,\n",
        "        n_jobs=n_jobs\n",
        "    )\n",
        "\n",
        "    return Pipeline(steps=[(\"preprocessor\", numeric_transformer),\n",
        "                           (\"clf\", stacking_clf)])"
      ]
    },
    {
      "cell_type": "markdown",
      "metadata": {
        "id": "WVfCAdkp7kJn"
      },
      "source": [
        "# 📊 Train + Evaluate"
      ]
    },
    {
      "cell_type": "code",
      "execution_count": 9,
      "metadata": {
        "id": "Gk9L8VeN7nuQ"
      },
      "outputs": [],
      "source": [
        "def train_and_evaluate(X: pd.DataFrame, y: pd.Series,\n",
        "                       test_size: float = 0.2,\n",
        "                       random_state: int = 42,\n",
        "                       cv_folds: int = 5):\n",
        "\n",
        "    X_train, X_test, y_train, y_test = train_test_split(\n",
        "        X, y, test_size=test_size, stratify=y, random_state=random_state\n",
        "    )\n",
        "    logger.info(\"Train shape: %s, Test shape: %s\", X_train.shape, X_test.shape)\n",
        "\n",
        "    pipeline = build_pipeline()\n",
        "\n",
        "    # CV\n",
        "    cv = StratifiedKFold(n_splits=cv_folds, shuffle=True, random_state=random_state)\n",
        "    cv_scores = cross_val_score(pipeline, X_train, y_train, cv=cv,\n",
        "                                scoring=\"accuracy\", n_jobs=-1)\n",
        "    logger.info(\"CV accuracy: %.4f ± %.4f\", cv_scores.mean(), cv_scores.std())\n",
        "\n",
        "    # Train\n",
        "    pipeline.fit(X_train, y_train)\n",
        "\n",
        "    # Predict\n",
        "    y_pred = pipeline.predict(X_test)\n",
        "    y_proba = pipeline.predict_proba(X_test)\n",
        "\n",
        "    metrics = {\n",
        "        \"accuracy\": accuracy_score(y_test, y_pred),\n",
        "        \"precision_macro\": precision_score(y_test, y_pred, average=\"macro\"),\n",
        "        \"recall_macro\": recall_score(y_test, y_pred, average=\"macro\"),\n",
        "        \"f1_macro\": f1_score(y_test, y_pred, average=\"macro\"),\n",
        "        \"roc_auc_ovr\": roc_auc_score(y_test, y_proba, multi_class=\"ovr\"),\n",
        "        \"roc_auc_ovo\": roc_auc_score(y_test, y_proba, multi_class=\"ovo\")\n",
        "    }\n",
        "\n",
        "    print(\"\\n✅ Holdout Metrics:\")\n",
        "    for k, v in metrics.items():\n",
        "        print(f\"{k}: {v:.4f}\")\n",
        "\n",
        "    print(\"\\n📑 Classification Report:\")\n",
        "    print(classification_report(y_test, y_pred, digits=4))\n",
        "\n",
        "    print(\"Confusion Matrix:\")\n",
        "    print(confusion_matrix(y_test, y_pred))\n",
        "\n",
        "    baseline_stats = compute_baseline_stats(X_train)\n",
        "\n",
        "    return pipeline, metrics, baseline_stats, X_train.columns"
      ]
    },
    {
      "cell_type": "markdown",
      "metadata": {
        "id": "56pgt4py7pSg"
      },
      "source": [
        "# 🚀 Example Usage"
      ]
    },
    {
      "cell_type": "code",
      "execution_count": 11,
      "metadata": {
        "id": "qIZZKlUT7rJq"
      },
      "outputs": [],
      "source": [
        "koi = read_with_fallback(\"/content/cumulative_2025.09.24_03.42.53.csv\")\n",
        "toi = read_with_fallback(\"/content/TOI_2025.09.24_03.43.03.csv\")\n",
        "k2 = read_with_fallback(\"/content/k2pandc_2025.09.24_03.43.09.csv\")"
      ]
    },
    {
      "cell_type": "markdown",
      "metadata": {
        "id": "MQSqIunF7s8q"
      },
      "source": [
        "## Label mapping"
      ]
    },
    {
      "cell_type": "code",
      "execution_count": 12,
      "metadata": {
        "id": "clwROuOl7vLu"
      },
      "outputs": [],
      "source": [
        "koi_map = {\"CONFIRMED\": \"CONFIRMED\", \"CANDIDATE\": \"CANDIDATE\", \"FALSE POSITIVE\": \"FALSE POSITIVE\"}\n",
        "toi_map = {\"PC\": \"CANDIDATE\", \"CP\": \"CONFIRMED\", \"KP\": \"CONFIRMED\", \"FP\": \"FALSE POSITIVE\"}\n",
        "k2_map = {\"CONFIRMED\": \"CONFIRMED\", \"CANDIDATE\": \"CANDIDATE\", \"FALSE POSITIVE\": \"FALSE POSITIVE\"}"
      ]
    },
    {
      "cell_type": "code",
      "execution_count": 13,
      "metadata": {
        "id": "VEFJPYtg7wbD"
      },
      "outputs": [],
      "source": [
        "koi[\"label\"] = koi[\"koi_disposition\"].map(koi_map)\n",
        "toi[\"label\"] = toi[\"tfopwg_disp\"].map(toi_map)\n",
        "k2[\"label\"] = k2[\"disposition\"].map(k2_map)"
      ]
    },
    {
      "cell_type": "markdown",
      "metadata": {
        "id": "KGmfvMrT7ywP"
      },
      "source": [
        "## Drop unmapped"
      ]
    },
    {
      "cell_type": "code",
      "execution_count": 14,
      "metadata": {
        "id": "OMMooNgE7z75"
      },
      "outputs": [],
      "source": [
        "koi = koi.dropna(subset=[\"label\"])\n",
        "toi = toi.dropna(subset=[\"label\"])\n",
        "k2 = k2.dropna(subset=[\"label\"])"
      ]
    },
    {
      "cell_type": "markdown",
      "metadata": {
        "id": "2cn_E8pr72Au"
      },
      "source": [
        "## Merge"
      ]
    },
    {
      "cell_type": "code",
      "execution_count": 15,
      "metadata": {
        "id": "6YKE5eO673pS"
      },
      "outputs": [],
      "source": [
        "df = pd.concat([koi, toi, k2], ignore_index=True)\n",
        "X = df.select_dtypes(include=[np.number])\n",
        "y = df[\"label\"]"
      ]
    },
    {
      "cell_type": "markdown",
      "metadata": {
        "id": "zWjGODUe76OI"
      },
      "source": [
        "## Train + evaluate"
      ]
    },
    {
      "cell_type": "code",
      "execution_count": 16,
      "metadata": {
        "colab": {
          "base_uri": "https://localhost:8080/"
        },
        "id": "kLQMnLyL77xm",
        "outputId": "84b10dee-158d-4083-abc0-5bfbbef3e1fe"
      },
      "outputs": [
        {
          "name": "stderr",
          "output_type": "stream",
          "text": [
            "/usr/local/lib/python3.12/dist-packages/sklearn/impute/_base.py:635: UserWarning: Skipping features without any observed values: ['koi_teq_err1' 'koi_teq_err2']. At least one non-missing value is needed for imputation with strategy='median'.\n",
            "  warnings.warn(\n",
            "/usr/local/lib/python3.12/dist-packages/sklearn/linear_model/_logistic.py:1247: FutureWarning: 'multi_class' was deprecated in version 1.5 and will be removed in 1.7. From then on, it will always use 'multinomial'. Leave it to its default value to avoid this warning.\n",
            "  warnings.warn(\n",
            "/usr/local/lib/python3.12/dist-packages/sklearn/impute/_base.py:635: UserWarning: Skipping features without any observed values: ['koi_teq_err1' 'koi_teq_err2']. At least one non-missing value is needed for imputation with strategy='median'.\n",
            "  warnings.warn(\n",
            "/usr/local/lib/python3.12/dist-packages/sklearn/utils/validation.py:2739: UserWarning: X does not have valid feature names, but LGBMClassifier was fitted with feature names\n",
            "  warnings.warn(\n",
            "/usr/local/lib/python3.12/dist-packages/sklearn/impute/_base.py:635: UserWarning: Skipping features without any observed values: ['koi_teq_err1' 'koi_teq_err2']. At least one non-missing value is needed for imputation with strategy='median'.\n",
            "  warnings.warn(\n",
            "/usr/local/lib/python3.12/dist-packages/sklearn/utils/validation.py:2739: UserWarning: X does not have valid feature names, but LGBMClassifier was fitted with feature names\n",
            "  warnings.warn(\n"
          ]
        },
        {
          "name": "stdout",
          "output_type": "stream",
          "text": [
            "\n",
            "✅ Holdout Metrics:\n",
            "accuracy: 0.8932\n",
            "precision_macro: 0.8988\n",
            "recall_macro: 0.8929\n",
            "f1_macro: 0.8955\n",
            "roc_auc_ovr: 0.9779\n",
            "roc_auc_ovo: 0.9788\n",
            "\n",
            "📑 Classification Report:\n",
            "                precision    recall  f1-score   support\n",
            "\n",
            "     CANDIDATE     0.8504    0.8960    0.8726      1605\n",
            "     CONFIRMED     0.9076    0.8817    0.8944      1259\n",
            "FALSE POSITIVE     0.9383    0.9012    0.9194      1265\n",
            "\n",
            "      accuracy                         0.8932      4129\n",
            "     macro avg     0.8988    0.8929    0.8955      4129\n",
            "  weighted avg     0.8948    0.8932    0.8936      4129\n",
            "\n",
            "Confusion Matrix:\n",
            "[[1438  101   66]\n",
            " [ 140 1110    9]\n",
            " [ 113   12 1140]]\n"
          ]
        },
        {
          "name": "stderr",
          "output_type": "stream",
          "text": [
            "/tmp/ipython-input-669358249.py:7: RuntimeWarning: Mean of empty slice\n",
            "  \"mean\": float(np.nanmean(col)),\n",
            "/usr/local/lib/python3.12/dist-packages/numpy/lib/_nanfunctions_impl.py:2035: RuntimeWarning: Degrees of freedom <= 0 for slice.\n",
            "  var = nanvar(a, axis=axis, dtype=dtype, out=out, ddof=ddof,\n"
          ]
        }
      ],
      "source": [
        "pipeline, metrics, baseline_stats, feature_cols = train_and_evaluate(X, y)"
      ]
    },
    {
      "cell_type": "markdown",
      "metadata": {
        "id": "EoGfncaW8Nod"
      },
      "source": [
        "## Save"
      ]
    },
    {
      "cell_type": "code",
      "execution_count": 17,
      "metadata": {
        "id": "M8CvcF9V8Qnt"
      },
      "outputs": [],
      "source": [
        "metadata = {\"feature_cols\": list(feature_cols),\n",
        "            \"baseline_stats\": baseline_stats,\n",
        "            \"metrics\": metrics,\n",
        "            \"categories\": sorted(y.unique())}\n",
        "save_artifacts(pipeline, \"./exo_model.pkl\", metadata, \"./exo_meta.pkl\")"
      ]
    },
    {
      "cell_type": "markdown",
      "metadata": {
        "id": "PfxHDtFK8Smu"
      },
      "source": [
        "## Reload + test inference"
      ]
    },
    {
      "cell_type": "code",
      "execution_count": 18,
      "metadata": {
        "colab": {
          "base_uri": "https://localhost:8080/"
        },
        "id": "oyuz-TTl8VRE",
        "outputId": "df3139b1-17d3-473d-9f64-27f7cb15488e"
      },
      "outputs": [
        {
          "name": "stdout",
          "output_type": "stream",
          "text": [
            "\n",
            "🔮 Prediction: CONFIRMED\n",
            "Probabilities: {'CANDIDATE': np.float64(0.01824279918067515), 'CONFIRMED': np.float64(0.9806699098837639), 'FALSE POSITIVE': np.float64(0.0010872909355610064)}\n"
          ]
        },
        {
          "name": "stderr",
          "output_type": "stream",
          "text": [
            "/usr/local/lib/python3.12/dist-packages/sklearn/impute/_base.py:635: UserWarning: Skipping features without any observed values: ['koi_teq_err1' 'koi_teq_err2']. At least one non-missing value is needed for imputation with strategy='median'.\n",
            "  warnings.warn(\n",
            "/usr/local/lib/python3.12/dist-packages/sklearn/utils/validation.py:2739: UserWarning: X does not have valid feature names, but LGBMClassifier was fitted with feature names\n",
            "  warnings.warn(\n",
            "/usr/local/lib/python3.12/dist-packages/sklearn/impute/_base.py:635: UserWarning: Skipping features without any observed values: ['koi_teq_err1' 'koi_teq_err2']. At least one non-missing value is needed for imputation with strategy='median'.\n",
            "  warnings.warn(\n",
            "/usr/local/lib/python3.12/dist-packages/sklearn/utils/validation.py:2739: UserWarning: X does not have valid feature names, but LGBMClassifier was fitted with feature names\n",
            "  warnings.warn(\n"
          ]
        }
      ],
      "source": [
        "model, metadata = load_artifacts(\"./exo_model.pkl\", \"./exo_meta.pkl\")\n",
        "sample_row = X.iloc[[0]]\n",
        "pred = model.predict(sample_row)[0]\n",
        "proba = model.predict_proba(sample_row)[0]\n",
        "print(\"\\n🔮 Prediction:\", pred)\n",
        "print(\"Probabilities:\", dict(zip(metadata[\"categories\"], proba)))"
      ]
    },
    {
      "cell_type": "markdown",
      "metadata": {
        "id": "Zg6JePHj9T5g"
      },
      "source": [
        "## 🔎 Local Explanation using SHAP (single prediction, sample 0)"
      ]
    },
    {
      "cell_type": "code",
      "execution_count": 43,
      "metadata": {
        "id": "n_3jxDNrII5q"
      },
      "outputs": [],
      "source": [
        "import shap\n",
        "import matplotlib.pyplot as plt"
      ]
    },
    {
      "cell_type": "code",
      "execution_count": 44,
      "metadata": {
        "id": "xU78t8Q3IKMm"
      },
      "outputs": [],
      "source": [
        "lgbm_model = pipeline.named_steps[\"clf\"].named_estimators_[\"lgbm\"]"
      ]
    },
    {
      "cell_type": "code",
      "execution_count": 45,
      "metadata": {
        "colab": {
          "base_uri": "https://localhost:8080/"
        },
        "id": "T53LgKClILiz",
        "outputId": "d52f21f4-dbbb-4389-93b5-ffce6cca8107"
      },
      "outputs": [
        {
          "name": "stderr",
          "output_type": "stream",
          "text": [
            "/usr/local/lib/python3.12/dist-packages/sklearn/impute/_base.py:635: UserWarning: Skipping features without any observed values: ['koi_teq_err1' 'koi_teq_err2']. At least one non-missing value is needed for imputation with strategy='median'.\n",
            "  warnings.warn(\n"
          ]
        }
      ],
      "source": [
        "X_test_transformed = pipeline.named_steps[\"preprocessor\"].transform(X_test)\n",
        "feature_names = pipeline.named_steps[\"preprocessor\"].get_feature_names_out()"
      ]
    },
    {
      "cell_type": "code",
      "execution_count": 46,
      "metadata": {
        "id": "UTQ_AYtJINRl"
      },
      "outputs": [],
      "source": [
        "explainer = shap.TreeExplainer(lgbm_model)\n",
        "shap_values = explainer.shap_values(X_test_transformed)"
      ]
    },
    {
      "cell_type": "code",
      "execution_count": 63,
      "metadata": {
        "id": "HgajDQdcIPUf"
      },
      "outputs": [],
      "source": [
        "sample_idx = 0\n",
        "sample_data = X_test_transformed[sample_idx, :]\n",
        "class_names = pipeline.named_steps[\"clf\"].classes_"
      ]
    },
    {
      "cell_type": "code",
      "execution_count": 64,
      "metadata": {
        "colab": {
          "base_uri": "https://localhost:8080/"
        },
        "id": "GDI4mGn-IRWr",
        "outputId": "6829ec35-f725-4fe5-d60c-aad690ab7174"
      },
      "outputs": [
        {
          "name": "stderr",
          "output_type": "stream",
          "text": [
            "/usr/local/lib/python3.12/dist-packages/sklearn/utils/validation.py:2739: UserWarning: X does not have valid feature names, but LGBMClassifier was fitted with feature names\n",
            "  warnings.warn(\n"
          ]
        }
      ],
      "source": [
        "pred_class_idx = lgbm_model.predict(sample_data.reshape(1, -1))[0]\n",
        "pred_class_name = class_names[pred_class_idx]"
      ]
    },
    {
      "cell_type": "code",
      "execution_count": 65,
      "metadata": {
        "colab": {
          "base_uri": "https://localhost:8080/",
          "height": 365
        },
        "id": "bsEmy_-wEX4M",
        "outputId": "1c02d4ab-09e4-4eb0-c1ff-5503e7ffbd69"
      },
      "outputs": [
        {
          "name": "stdout",
          "output_type": "stream",
          "text": [
            "🔎 Local SHAP for sample 0, predicted class: CANDIDATE\n"
          ]
        },
        {
          "data": {
            "image/png": "[encoded data removed]",
            "text/plain": [
              "<Figure size 800x300 with 3 Axes>"
            ]
          },
          "metadata": {},
          "output_type": "display_data"
        }
      ],
      "source": [
        "print(f\"🔎 Local SHAP for sample {sample_idx}, predicted class: {pred_class_name}\")\n",
        "shap.plots._waterfall.waterfall_legacy(\n",
        "    explainer.expected_value[pred_class_idx],\n",
        "    shap_values[pred_class_idx][sample_idx, :],\n",
        "    feature_names=feature_names,\n",
        "    features=sample_data\n",
        ")\n",
        "plt.show()"
      ]
    },
    {
      "cell_type": "markdown",
      "metadata": {
        "id": "uPCwLIBwJKD4"
      },
      "source": [
        "# Concatinated Dataset"
      ]
    },
    {
      "cell_type": "code",
      "execution_count": 67,
      "metadata": {
        "colab": {
          "base_uri": "https://localhost:8080/"
        },
        "id": "zCFPpIBLJMyG",
        "outputId": "02fc4c94-30ce-4fc7-921b-cf4d5203232d"
      },
      "outputs": [
        {
          "name": "stdout",
          "output_type": "stream",
          "text": [
            "Concatenated dataset saved as 'concatenated_exoplanet_data.csv'\n"
          ]
        }
      ],
      "source": [
        "df.to_csv(\"concatenated_exoplanet_data_preprocessed.csv\", index=False)\n",
        "print(\"Concatenated dataset saved as 'concatenated_exoplanet_data.csv'\")"
      ]
    },
    {
      "cell_type": "code",
      "execution_count": null,
      "metadata": {
        "id": "KE9nyfvGJNnc"
      },
      "outputs": [],
      "source": []
    }
  ],
  "metadata": {
    "colab": {
      "provenance": []
    },
    "kernelspec": {
      "display_name": "Python 3",
      "name": "python3"
    },
    "language_info": {
      "name": "python"
    }
  },
  "nbformat": 4,
  "nbformat_minor": 0
}
