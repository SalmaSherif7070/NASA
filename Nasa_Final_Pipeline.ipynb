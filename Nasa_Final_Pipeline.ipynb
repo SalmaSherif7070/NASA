{
  "nbformat": 4,
  "nbformat_minor": 0,
  "metadata": {
    "colab": {
      "provenance": []
    },
    "kernelspec": {
      "name": "python3",
      "display_name": "Python 3"
    },
    "language_info": {
      "name": "python"
    }
  },
  "cells": [
    {
      "cell_type": "markdown",
      "source": [
        "# 🪐 Exoplanet Classification Pipeline\n",
        "This notebook builds a complete ML pipeline for classifying exoplanet candidates using data from NASA’s KOI, TOI, and K2 missions.\n",
        "\n",
        "We adressed almost all the research gaps in the research papers in Nasa Sources (https://academic.oup.com/mnras/article/513/4/5505/6472249, https://www.mdpi.com/2079-9292/13/19/3950)\n",
        "\n",
        "Some of the gaps were:\n",
        "- High class imbalance\n",
        "- Lack of Broad Applicability/Robustness for Production\n",
        "- Global Classifier Development\n",
        "- Scarcity of Ensemble Algorithm Research\n",
        "- Testing with Other Datasets (one of the research paper works only on KOI)\n",
        "- Interpretability of Ensemble Algorithms (reproducibility and understanding of the algorithms' decision-making process)\n",
        "- Computational Efficiency\n",
        "\n",
        "and all of these solved in our pipeline"
      ],
      "metadata": {
        "id": "8FTsvJYoSg1Y"
      }
    },
    {
      "cell_type": "markdown",
      "source": [
        "# The pipeline includes:\n",
        "- Unified feature mapping across missions\n",
        "- Feature engineering and scaling\n",
        "- Model stacking (RF, XGBoost, LightGBM)\n",
        "- Evaluation metrics (Accuracy, ROC-AUC)\n",
        "- SHAP Explainability"
      ],
      "metadata": {
        "id": "Ftuz_u1VVJWf"
      }
    },
    {
      "cell_type": "markdown",
      "source": [
        "Our goal is to build an intelligent, mission-agnostic, generalized, and robust pipeline that remains reliable and competitive across current and future NASA missions\n",
        "\n",
        "**Accuracy is not a target — Robustness and Generalization is.**"
      ],
      "metadata": {
        "id": "tPOdZb_J2lOF"
      }
    },
    {
      "cell_type": "markdown",
      "source": [
        "# 📦 Imports"
      ],
      "metadata": {
        "id": "golVW2UKnyOc"
      }
    },
    {
      "cell_type": "code",
      "source": [
        "from sklearn.preprocessing import StandardScaler, OneHotEncoder, FunctionTransformer\n",
        "from sklearn.impute import SimpleImputer\n",
        "from sklearn.pipeline import Pipeline\n",
        "from sklearn.compose import ColumnTransformer\n",
        "from sklearn.ensemble import RandomForestClassifier, StackingClassifier\n",
        "from sklearn.metrics import (accuracy_score, classification_report, roc_auc_score)\n",
        "import logging\n",
        "import lightgbm as lgb\n",
        "from xgboost import XGBClassifier\n",
        "import shap\n",
        "import matplotlib.pyplot as plt\n",
        "import pandas as pd\n",
        "import numpy as np\n",
        "from sklearn.model_selection import train_test_split"
      ],
      "metadata": {
        "id": "NDarZ9can53P"
      },
      "execution_count": 1,
      "outputs": []
    },
    {
      "cell_type": "markdown",
      "source": [
        "# 📋 Logging config"
      ],
      "metadata": {
        "id": "zS8ISVgBn7w2"
      }
    },
    {
      "cell_type": "code",
      "source": [
        "logging.basicConfig(\n",
        "    level=logging.INFO,\n",
        "    format=\"%(asctime)s %(levelname)s %(message)s\"\n",
        ")\n",
        "logger = logging.getLogger(\"exo_model_pipeline\")"
      ],
      "metadata": {
        "id": "0RlsWAwQn9bn"
      },
      "execution_count": 2,
      "outputs": []
    },
    {
      "cell_type": "markdown",
      "source": [
        "# 📥 Data Loading"
      ],
      "metadata": {
        "id": "RqwJG9IhoALz"
      }
    },
    {
      "cell_type": "code",
      "source": [
        "def read_with_fallback(path: str) -> pd.DataFrame:\n",
        "    try:\n",
        "        df = pd.read_csv(path, sep=\",\", comment=\"#\", low_memory=False)\n",
        "    except Exception:\n",
        "        df = pd.read_csv(path, sep=\"\\t\", comment=\"#\", low_memory=False)\n",
        "    if df.shape[1] == 1:\n",
        "        df = pd.read_csv(path, sep=\"\\t\", comment=\"#\", low_memory=False)\n",
        "    logger.info(\"Loaded %s with shape %s\", path, df.shape)\n",
        "    return df"
      ],
      "metadata": {
        "id": "O1A0D5-coCAe"
      },
      "execution_count": 3,
      "outputs": []
    },
    {
      "cell_type": "markdown",
      "source": [
        "# 🗺 Column Mapping"
      ],
      "metadata": {
        "id": "ihVaUsNuoTKQ"
      }
    },
    {
      "cell_type": "markdown",
      "source": [
        "- We observed that the features among the three datasets are different, our approach was to find the common features across all the three datasets for better generalization and scalability. This unified feature set is generalized for upcoming missions like PLATO (2026) and Ariel (2029), which will require robust, scalable models.\n",
        "\n",
        "- After careful observation we observe that there are some features (10 features) that are common but each mission (KOI, TOI, K2) uses different column names, for the same physical features. so we choose geniric names for the new columns and this mapping standardizes them"
      ],
      "metadata": {
        "id": "IAGGkr_yVVye"
      }
    },
    {
      "cell_type": "code",
      "source": [
        "mapping = {\n",
        "    \"orbital_period_days\": {\"KOI\": \"koi_period\", \"TOI\": \"pl_orbper\", \"K2\": \"pl_orbper\"},\n",
        "    \"planet_radius_rearth\": {\"KOI\": \"koi_prad\", \"TOI\": \"pl_rade\", \"K2\": \"pl_rade\"},\n",
        "    \"insolation_flux_eflux\": {\"KOI\": \"koi_insol\", \"TOI\": \"pl_insol\", \"K2\": \"pl_insol\"},\n",
        "    \"equilibrium_temp_K\": {\"KOI\": \"koi_teq\", \"TOI\": \"pl_eqt\", \"K2\": \"pl_eqt\"},\n",
        "    \"stellar_teff_K\": {\"KOI\": \"koi_steff\", \"TOI\": \"st_teff\", \"K2\": \"st_teff\"},\n",
        "    \"stellar_logg_cgs\": {\"KOI\": \"koi_slogg\", \"TOI\": \"st_logg\", \"K2\": \"st_logg\"},\n",
        "    \"stellar_radius_rsun\": {\"KOI\": \"koi_srad\", \"TOI\": \"st_rad\", \"K2\": \"st_rad\"},\n",
        "    \"stellar_mag\": {\"KOI\": \"koi_kepmag\", \"TOI\": \"st_tmag\", \"K2\": \"sy_vmag\"},\n",
        "    \"ra_deg\": {\"KOI\": \"ra\", \"TOI\": \"ra\", \"K2\": \"ra\"},\n",
        "    \"dec_deg\": {\"KOI\": \"dec\", \"TOI\": \"dec\", \"K2\": \"dec\"},\n",
        "}"
      ],
      "metadata": {
        "id": "WIJOPSF-oVGn"
      },
      "execution_count": 4,
      "outputs": []
    },
    {
      "cell_type": "code",
      "source": [
        "def apply_mapping(df, source, mapping):\n",
        "    \"\"\"We Renamed dataset columns based on the mission source.\"\"\"\n",
        "    rename_dict = {m[source]: k for k, m in mapping.items() if m.get(source)}\n",
        "    df = df.rename(columns=rename_dict)\n",
        "    df[\"source\"] = source\n",
        "    return df"
      ],
      "metadata": {
        "id": "nDx5vBwOoWq3"
      },
      "execution_count": 5,
      "outputs": []
    },
    {
      "cell_type": "markdown",
      "source": [
        "# ⚙ Feature Engineering"
      ],
      "metadata": {
        "id": "WLRahxKjoYvA"
      }
    },
    {
      "cell_type": "markdown",
      "source": [
        "This function performs domain-inspired feature engineering:\n",
        "- Log transforms for skewed astronomical quantities\n",
        "- Ratios between planet and star properties"
      ],
      "metadata": {
        "id": "o9gkfIzqYJIp"
      }
    },
    {
      "cell_type": "code",
      "source": [
        "def add_features(df: pd.DataFrame) -> pd.DataFrame:\n",
        "    df = df.copy()\n",
        "    # Log transforms (safe: avoid negatives/zeros)\n",
        "    for col in [\"orbital_period_days\", \"planet_radius_rearth\",\n",
        "                \"insolation_flux_eflux\", \"equilibrium_temp_K\"]:\n",
        "        if col in df.columns:\n",
        "            df[f\"log_{col}\"] = np.log1p(df[col].clip(lower=0))\n",
        "    # Derived ratios: planet-to-star size and temperature\n",
        "    if {\"planet_radius_rearth\", \"stellar_radius_rsun\"}.issubset(df.columns):\n",
        "        df[\"radius_ratio\"] = df[\"planet_radius_rearth\"] / (df[\"stellar_radius_rsun\"] + 1e-6)\n",
        "    if {\"equilibrium_temp_K\", \"stellar_teff_K\"}.issubset(df.columns):\n",
        "        df[\"temp_ratio\"] = df[\"equilibrium_temp_K\"] / (df[\"stellar_teff_K\"] + 1e-6)\n",
        "    return df"
      ],
      "metadata": {
        "id": "SOS9CkG4obPD"
      },
      "execution_count": 6,
      "outputs": []
    },
    {
      "cell_type": "markdown",
      "source": [
        "# ⚙ PIPELINE CONSTRUCTION"
      ],
      "metadata": {
        "id": "29P8PQnsodvG"
      }
    },
    {
      "cell_type": "code",
      "source": [
        "def build_pipeline(n_jobs: int = -1) -> Pipeline:\n",
        "    # Numeric preprocessing: median imputation + standard scaling\n",
        "    numeric_transformer = Pipeline(steps=[\n",
        "        (\"imputer\", SimpleImputer(strategy=\"median\")),\n",
        "        (\"scaler\", StandardScaler())\n",
        "    ])\n",
        "    # Categorical preprocessing: most frequent imputation + one-hot encoding\n",
        "\n",
        "    categorical_transformer = Pipeline(steps=[\n",
        "        (\"imputer\", SimpleImputer(strategy=\"most_frequent\")),\n",
        "        (\"encoder\", OneHotEncoder(handle_unknown=\"ignore\"))\n",
        "    ])\n",
        "\n",
        "    preprocessor = ColumnTransformer(\n",
        "        transformers=[\n",
        "            (\"num\", numeric_transformer, numeric_features),\n",
        "            (\"cat\", categorical_transformer, categorical_features)\n",
        "        ]\n",
        "    )\n",
        "\n",
        "    # Base learners (diverse ensemble), Tuned estimators with class balancing\n",
        "    # class_weight=\"balanced\" is used to mitigate class imbalance which is (a known challenge in exoplanet data)\n",
        "    estimators = [\n",
        "        (\"rf\", RandomForestClassifier(\n",
        "            n_estimators=400, max_depth=15,\n",
        "            class_weight=\"balanced\", random_state=42)),\n",
        "        (\"xgb\", XGBClassifier(\n",
        "            n_estimators=500, max_depth=7,\n",
        "            learning_rate=0.05, subsample=0.8, colsample_bytree=0.8,\n",
        "            scale_pos_weight=1, eval_metric=\"mlogloss\",\n",
        "            use_label_encoder=False, random_state=42)),\n",
        "        (\"lgbm\", lgb.LGBMClassifier(\n",
        "            n_estimators=500, max_depth=-1, num_leaves=64,\n",
        "            subsample=0.8, colsample_bytree=0.8,\n",
        "            class_weight=\"balanced\", random_state=42))\n",
        "    ]\n",
        "    # Meta-learner (final estimator)\n",
        "    stacking_clf = StackingClassifier(\n",
        "        estimators=estimators,\n",
        "        final_estimator=lgb.LGBMClassifier(\n",
        "            n_estimators=200, learning_rate=0.05,\n",
        "            num_leaves=32, class_weight=\"balanced\",\n",
        "            random_state=42\n",
        "        ),\n",
        "        cv=5,\n",
        "        n_jobs=n_jobs\n",
        "    )\n",
        "\n",
        "    return Pipeline(steps=[(\"preprocessor\", preprocessor),\n",
        "                           (\"clf\", stacking_clf)])"
      ],
      "metadata": {
        "id": "xOJQ7cxCohbi"
      },
      "execution_count": 7,
      "outputs": []
    },
    {
      "cell_type": "markdown",
      "source": [
        "# 🚀 Load & Prepare Data"
      ],
      "metadata": {
        "id": "L21WhhiUosJX"
      }
    },
    {
      "cell_type": "code",
      "source": [
        "koi = read_with_fallback(\"/content/cumulative_2025.09.24_03.42.53.csv\")\n",
        "toi = read_with_fallback(\"/content/TOI_2025.09.24_03.43.03.csv\")\n",
        "k2  = read_with_fallback(\"/content/k2pandc_2025.09.24_03.43.09.csv\")"
      ],
      "metadata": {
        "id": "TmfF6h-EotYI"
      },
      "execution_count": 8,
      "outputs": []
    },
    {
      "cell_type": "markdown",
      "source": [
        "# Label mapping"
      ],
      "metadata": {
        "id": "fhTQ36qUo9Oe"
      }
    },
    {
      "cell_type": "markdown",
      "source": [
        "For the Label mapping we observed that there is also different classes among the 3 datasets but there is 3 common classes with different names and these 3 are the most important so we Harmonize the different disposition labels across missions into \"CONFIRMED\", \"CANDIDATE\", and \"FALSE POSITIVE\""
      ],
      "metadata": {
        "id": "LEcwI6K5ZOo8"
      }
    },
    {
      "cell_type": "code",
      "source": [
        "koi_map = {\"CONFIRMED\": \"CONFIRMED\", \"CANDIDATE\": \"CANDIDATE\", \"FALSE POSITIVE\": \"FALSE POSITIVE\"}\n",
        "toi_map = {\"PC\": \"CANDIDATE\", \"CP\": \"CONFIRMED\", \"KP\": \"CONFIRMED\", \"FP\": \"FALSE POSITIVE\"}\n",
        "k2_map  = {\"CONFIRMED\": \"CONFIRMED\", \"CANDIDATE\": \"CANDIDATE\", \"FALSE POSITIVE\": \"FALSE POSITIVE\"}"
      ],
      "metadata": {
        "id": "hOmQ4qaAo-it"
      },
      "execution_count": 9,
      "outputs": []
    },
    {
      "cell_type": "code",
      "source": [
        "koi[\"label\"] = koi[\"koi_disposition\"].map(koi_map)\n",
        "toi[\"label\"] = toi[\"tfopwg_disp\"].map(toi_map)\n",
        "k2[\"label\"]  = k2[\"disposition\"].map(k2_map)"
      ],
      "metadata": {
        "id": "YtJkWblqo_wb"
      },
      "execution_count": 10,
      "outputs": []
    },
    {
      "cell_type": "code",
      "source": [
        "koi = koi.dropna(subset=[\"label\"])\n",
        "toi = toi.dropna(subset=[\"label\"])\n",
        "k2  = k2.dropna(subset=[\"label\"])"
      ],
      "metadata": {
        "id": "KNWVM3H3pBOc"
      },
      "execution_count": 11,
      "outputs": []
    },
    {
      "cell_type": "markdown",
      "source": [
        "# Apply mapping + concat"
      ],
      "metadata": {
        "id": "ZCSakt14pCbq"
      }
    },
    {
      "cell_type": "code",
      "source": [
        "koi_mapped = apply_mapping(koi, \"KOI\", mapping)\n",
        "toi_mapped = apply_mapping(toi, \"TOI\", mapping)\n",
        "k2_mapped  = apply_mapping(k2,  \"K2\", mapping)"
      ],
      "metadata": {
        "id": "aDXl8IFOpD2K"
      },
      "execution_count": 12,
      "outputs": []
    },
    {
      "cell_type": "code",
      "source": [
        "df = pd.concat([koi_mapped, toi_mapped, k2_mapped], ignore_index=True)\n",
        "df = df.dropna(axis=1, how=\"all\")"
      ],
      "metadata": {
        "id": "8D4WxiippFnc"
      },
      "execution_count": 13,
      "outputs": []
    },
    {
      "cell_type": "code",
      "source": [
        "# Only keep strict mapped features + source\n",
        "features = list(mapping.keys()) + [\"source\"]\n",
        "df = df[features + [\"label\"]]"
      ],
      "metadata": {
        "id": "MTIN5fnLp_F_"
      },
      "execution_count": 14,
      "outputs": []
    },
    {
      "cell_type": "code",
      "source": [
        "# Add engineered features\n",
        "df = add_features(df)"
      ],
      "metadata": {
        "id": "cai23auuqD1Y"
      },
      "execution_count": 15,
      "outputs": []
    },
    {
      "cell_type": "code",
      "source": [
        "df.to_csv(\"combined_exoplanet_data.csv\", index=False)\n",
        "from google.colab import files\n",
        "files.download(\"combined_exoplanet_data.csv\")"
      ],
      "metadata": {
        "colab": {
          "base_uri": "https://localhost:8080/",
          "height": 17
        },
        "id": "Lxij0I88pKCH",
        "outputId": "62c52e57-0e05-4877-b4a5-2056ecdb9fff"
      },
      "execution_count": 16,
      "outputs": [
        {
          "output_type": "display_data",
          "data": {
            "text/plain": [
              "<IPython.core.display.Javascript object>"
            ],
            "application/javascript": [
              "\n",
              "    async function download(id, filename, size) {\n",
              "      if (!google.colab.kernel.accessAllowed) {\n",
              "        return;\n",
              "      }\n",
              "      const div = document.createElement('div');\n",
              "      const label = document.createElement('label');\n",
              "      label.textContent = `Downloading \"${filename}\": `;\n",
              "      div.appendChild(label);\n",
              "      const progress = document.createElement('progress');\n",
              "      progress.max = size;\n",
              "      div.appendChild(progress);\n",
              "      document.body.appendChild(div);\n",
              "\n",
              "      const buffers = [];\n",
              "      let downloaded = 0;\n",
              "\n",
              "      const channel = await google.colab.kernel.comms.open(id);\n",
              "      // Send a message to notify the kernel that we're ready.\n",
              "      channel.send({})\n",
              "\n",
              "      for await (const message of channel.messages) {\n",
              "        // Send a message to notify the kernel that we're ready.\n",
              "        channel.send({})\n",
              "        if (message.buffers) {\n",
              "          for (const buffer of message.buffers) {\n",
              "            buffers.push(buffer);\n",
              "            downloaded += buffer.byteLength;\n",
              "            progress.value = downloaded;\n",
              "          }\n",
              "        }\n",
              "      }\n",
              "      const blob = new Blob(buffers, {type: 'application/binary'});\n",
              "      const a = document.createElement('a');\n",
              "      a.href = window.URL.createObjectURL(blob);\n",
              "      a.download = filename;\n",
              "      div.appendChild(a);\n",
              "      a.click();\n",
              "      div.remove();\n",
              "    }\n",
              "  "
            ]
          },
          "metadata": {}
        },
        {
          "output_type": "display_data",
          "data": {
            "text/plain": [
              "<IPython.core.display.Javascript object>"
            ],
            "application/javascript": [
              "download(\"download_eaede107-0855-4b48-bf50-3ef8fc26311f\", \"combined_exoplanet_data.csv\", 3890022)"
            ]
          },
          "metadata": {}
        }
      ]
    },
    {
      "cell_type": "code",
      "source": [
        "X = df.drop(columns=[\"label\"])\n",
        "y = df[\"label\"]"
      ],
      "metadata": {
        "id": "xZ_Q16bEqZzq"
      },
      "execution_count": 17,
      "outputs": []
    },
    {
      "cell_type": "code",
      "source": [
        "numeric_features = X.select_dtypes(include=[np.number]).columns.tolist()\n",
        "categorical_features = X.select_dtypes(exclude=[np.number]).columns.tolist()"
      ],
      "metadata": {
        "id": "UreyvbYkqbAN"
      },
      "execution_count": 18,
      "outputs": []
    },
    {
      "cell_type": "markdown",
      "source": [
        "# 📊 Train + Evaluate"
      ],
      "metadata": {
        "id": "KLuaWWWjqdic"
      }
    },
    {
      "cell_type": "code",
      "source": [
        "pipeline = build_pipeline()\n",
        "X_train, X_test, y_train, y_test = train_test_split(\n",
        "    X, y, test_size=0.2, stratify=y, random_state=42\n",
        ")"
      ],
      "metadata": {
        "id": "SPUgnHvEqfTu"
      },
      "execution_count": 19,
      "outputs": []
    },
    {
      "cell_type": "code",
      "source": [
        "pipeline.fit(X_train, y_train)"
      ],
      "metadata": {
        "colab": {
          "base_uri": "https://localhost:8080/",
          "height": 529
        },
        "id": "BYMwAXQjqgOl",
        "outputId": "5d54a21c-7bc8-47eb-f064-0f794fbe9a40"
      },
      "execution_count": 20,
      "outputs": [
        {
          "output_type": "stream",
          "name": "stdout",
          "text": [
            "[LightGBM] [Info] Auto-choosing col-wise multi-threading, the overhead of testing was 0.002533 seconds.\n",
            "You can set `force_col_wise=true` to remove the overhead.\n",
            "[LightGBM] [Info] Total Bins 2295\n",
            "[LightGBM] [Info] Number of data points in the train set: 16516, number of used features: 9\n",
            "[LightGBM] [Info] Start training from score -1.098612\n",
            "[LightGBM] [Info] Start training from score -1.098612\n",
            "[LightGBM] [Info] Start training from score -1.098612\n"
          ]
        },
        {
          "output_type": "execute_result",
          "data": {
            "text/plain": [
              "Pipeline(steps=[('preprocessor',\n",
              "                 ColumnTransformer(transformers=[('num',\n",
              "                                                  Pipeline(steps=[('imputer',\n",
              "                                                                   SimpleImputer(strategy='median')),\n",
              "                                                                  ('scaler',\n",
              "                                                                   StandardScaler())]),\n",
              "                                                  ['orbital_period_days',\n",
              "                                                   'planet_radius_rearth',\n",
              "                                                   'insolation_flux_eflux',\n",
              "                                                   'equilibrium_temp_K',\n",
              "                                                   'stellar_teff_K',\n",
              "                                                   'stellar_logg_cgs',\n",
              "                                                   'stellar_radius_rsun',\n",
              "                                                   'stellar_mag', 'ra_deg',\n",
              "                                                   'dec_deg',\n",
              "                                                   'log_o...\n",
              "                                                               monotone_constraints=None,\n",
              "                                                               multi_strategy=None,\n",
              "                                                               n_estimators=500,\n",
              "                                                               n_jobs=None,\n",
              "                                                               num_parallel_tree=None, ...)),\n",
              "                                                ('lgbm',\n",
              "                                                 LGBMClassifier(class_weight='balanced',\n",
              "                                                                colsample_bytree=0.8,\n",
              "                                                                n_estimators=500,\n",
              "                                                                num_leaves=64,\n",
              "                                                                random_state=42,\n",
              "                                                                subsample=0.8))],\n",
              "                                    final_estimator=LGBMClassifier(class_weight='balanced',\n",
              "                                                                   learning_rate=0.05,\n",
              "                                                                   n_estimators=200,\n",
              "                                                                   num_leaves=32,\n",
              "                                                                   random_state=42),\n",
              "                                    n_jobs=-1))])"
            ],
            "text/html": [
              "<style>#sk-container-id-1 {\n",
              "  /* Definition of color scheme common for light and dark mode */\n",
              "  --sklearn-color-text: #000;\n",
              "  --sklearn-color-text-muted: #666;\n",
              "  --sklearn-color-line: gray;\n",
              "  /* Definition of color scheme for unfitted estimators */\n",
              "  --sklearn-color-unfitted-level-0: #fff5e6;\n",
              "  --sklearn-color-unfitted-level-1: #f6e4d2;\n",
              "  --sklearn-color-unfitted-level-2: #ffe0b3;\n",
              "  --sklearn-color-unfitted-level-3: chocolate;\n",
              "  /* Definition of color scheme for fitted estimators */\n",
              "  --sklearn-color-fitted-level-0: #f0f8ff;\n",
              "  --sklearn-color-fitted-level-1: #d4ebff;\n",
              "  --sklearn-color-fitted-level-2: #b3dbfd;\n",
              "  --sklearn-color-fitted-level-3: cornflowerblue;\n",
              "\n",
              "  /* Specific color for light theme */\n",
              "  --sklearn-color-text-on-default-background: var(--sg-text-color, var(--theme-code-foreground, var(--jp-content-font-color1, black)));\n",
              "  --sklearn-color-background: var(--sg-background-color, var(--theme-background, var(--jp-layout-color0, white)));\n",
              "  --sklearn-color-border-box: var(--sg-text-color, var(--theme-code-foreground, var(--jp-content-font-color1, black)));\n",
              "  --sklearn-color-icon: #696969;\n",
              "\n",
              "  @media (prefers-color-scheme: dark) {\n",
              "    /* Redefinition of color scheme for dark theme */\n",
              "    --sklearn-color-text-on-default-background: var(--sg-text-color, var(--theme-code-foreground, var(--jp-content-font-color1, white)));\n",
              "    --sklearn-color-background: var(--sg-background-color, var(--theme-background, var(--jp-layout-color0, #111)));\n",
              "    --sklearn-color-border-box: var(--sg-text-color, var(--theme-code-foreground, var(--jp-content-font-color1, white)));\n",
              "    --sklearn-color-icon: #878787;\n",
              "  }\n",
              "}\n",
              "\n",
              "#sk-container-id-1 {\n",
              "  color: var(--sklearn-color-text);\n",
              "}\n",
              "\n",
              "#sk-container-id-1 pre {\n",
              "  padding: 0;\n",
              "}\n",
              "\n",
              "#sk-container-id-1 input.sk-hidden--visually {\n",
              "  border: 0;\n",
              "  clip: rect(1px 1px 1px 1px);\n",
              "  clip: rect(1px, 1px, 1px, 1px);\n",
              "  height: 1px;\n",
              "  margin: -1px;\n",
              "  overflow: hidden;\n",
              "  padding: 0;\n",
              "  position: absolute;\n",
              "  width: 1px;\n",
              "}\n",
              "\n",
              "#sk-container-id-1 div.sk-dashed-wrapped {\n",
              "  border: 1px dashed var(--sklearn-color-line);\n",
              "  margin: 0 0.4em 0.5em 0.4em;\n",
              "  box-sizing: border-box;\n",
              "  padding-bottom: 0.4em;\n",
              "  background-color: var(--sklearn-color-background);\n",
              "}\n",
              "\n",
              "#sk-container-id-1 div.sk-container {\n",
              "  /* jupyter's `normalize.less` sets `[hidden] { display: none; }`\n",
              "     but bootstrap.min.css set `[hidden] { display: none !important; }`\n",
              "     so we also need the `!important` here to be able to override the\n",
              "     default hidden behavior on the sphinx rendered scikit-learn.org.\n",
              "     See: https://github.com/scikit-learn/scikit-learn/issues/21755 */\n",
              "  display: inline-block !important;\n",
              "  position: relative;\n",
              "}\n",
              "\n",
              "#sk-container-id-1 div.sk-text-repr-fallback {\n",
              "  display: none;\n",
              "}\n",
              "\n",
              "div.sk-parallel-item,\n",
              "div.sk-serial,\n",
              "div.sk-item {\n",
              "  /* draw centered vertical line to link estimators */\n",
              "  background-image: linear-gradient(var(--sklearn-color-text-on-default-background), var(--sklearn-color-text-on-default-background));\n",
              "  background-size: 2px 100%;\n",
              "  background-repeat: no-repeat;\n",
              "  background-position: center center;\n",
              "}\n",
              "\n",
              "/* Parallel-specific style estimator block */\n",
              "\n",
              "#sk-container-id-1 div.sk-parallel-item::after {\n",
              "  content: \"\";\n",
              "  width: 100%;\n",
              "  border-bottom: 2px solid var(--sklearn-color-text-on-default-background);\n",
              "  flex-grow: 1;\n",
              "}\n",
              "\n",
              "#sk-container-id-1 div.sk-parallel {\n",
              "  display: flex;\n",
              "  align-items: stretch;\n",
              "  justify-content: center;\n",
              "  background-color: var(--sklearn-color-background);\n",
              "  position: relative;\n",
              "}\n",
              "\n",
              "#sk-container-id-1 div.sk-parallel-item {\n",
              "  display: flex;\n",
              "  flex-direction: column;\n",
              "}\n",
              "\n",
              "#sk-container-id-1 div.sk-parallel-item:first-child::after {\n",
              "  align-self: flex-end;\n",
              "  width: 50%;\n",
              "}\n",
              "\n",
              "#sk-container-id-1 div.sk-parallel-item:last-child::after {\n",
              "  align-self: flex-start;\n",
              "  width: 50%;\n",
              "}\n",
              "\n",
              "#sk-container-id-1 div.sk-parallel-item:only-child::after {\n",
              "  width: 0;\n",
              "}\n",
              "\n",
              "/* Serial-specific style estimator block */\n",
              "\n",
              "#sk-container-id-1 div.sk-serial {\n",
              "  display: flex;\n",
              "  flex-direction: column;\n",
              "  align-items: center;\n",
              "  background-color: var(--sklearn-color-background);\n",
              "  padding-right: 1em;\n",
              "  padding-left: 1em;\n",
              "}\n",
              "\n",
              "\n",
              "/* Toggleable style: style used for estimator/Pipeline/ColumnTransformer box that is\n",
              "clickable and can be expanded/collapsed.\n",
              "- Pipeline and ColumnTransformer use this feature and define the default style\n",
              "- Estimators will overwrite some part of the style using the `sk-estimator` class\n",
              "*/\n",
              "\n",
              "/* Pipeline and ColumnTransformer style (default) */\n",
              "\n",
              "#sk-container-id-1 div.sk-toggleable {\n",
              "  /* Default theme specific background. It is overwritten whether we have a\n",
              "  specific estimator or a Pipeline/ColumnTransformer */\n",
              "  background-color: var(--sklearn-color-background);\n",
              "}\n",
              "\n",
              "/* Toggleable label */\n",
              "#sk-container-id-1 label.sk-toggleable__label {\n",
              "  cursor: pointer;\n",
              "  display: flex;\n",
              "  width: 100%;\n",
              "  margin-bottom: 0;\n",
              "  padding: 0.5em;\n",
              "  box-sizing: border-box;\n",
              "  text-align: center;\n",
              "  align-items: start;\n",
              "  justify-content: space-between;\n",
              "  gap: 0.5em;\n",
              "}\n",
              "\n",
              "#sk-container-id-1 label.sk-toggleable__label .caption {\n",
              "  font-size: 0.6rem;\n",
              "  font-weight: lighter;\n",
              "  color: var(--sklearn-color-text-muted);\n",
              "}\n",
              "\n",
              "#sk-container-id-1 label.sk-toggleable__label-arrow:before {\n",
              "  /* Arrow on the left of the label */\n",
              "  content: \"▸\";\n",
              "  float: left;\n",
              "  margin-right: 0.25em;\n",
              "  color: var(--sklearn-color-icon);\n",
              "}\n",
              "\n",
              "#sk-container-id-1 label.sk-toggleable__label-arrow:hover:before {\n",
              "  color: var(--sklearn-color-text);\n",
              "}\n",
              "\n",
              "/* Toggleable content - dropdown */\n",
              "\n",
              "#sk-container-id-1 div.sk-toggleable__content {\n",
              "  max-height: 0;\n",
              "  max-width: 0;\n",
              "  overflow: hidden;\n",
              "  text-align: left;\n",
              "  /* unfitted */\n",
              "  background-color: var(--sklearn-color-unfitted-level-0);\n",
              "}\n",
              "\n",
              "#sk-container-id-1 div.sk-toggleable__content.fitted {\n",
              "  /* fitted */\n",
              "  background-color: var(--sklearn-color-fitted-level-0);\n",
              "}\n",
              "\n",
              "#sk-container-id-1 div.sk-toggleable__content pre {\n",
              "  margin: 0.2em;\n",
              "  border-radius: 0.25em;\n",
              "  color: var(--sklearn-color-text);\n",
              "  /* unfitted */\n",
              "  background-color: var(--sklearn-color-unfitted-level-0);\n",
              "}\n",
              "\n",
              "#sk-container-id-1 div.sk-toggleable__content.fitted pre {\n",
              "  /* unfitted */\n",
              "  background-color: var(--sklearn-color-fitted-level-0);\n",
              "}\n",
              "\n",
              "#sk-container-id-1 input.sk-toggleable__control:checked~div.sk-toggleable__content {\n",
              "  /* Expand drop-down */\n",
              "  max-height: 200px;\n",
              "  max-width: 100%;\n",
              "  overflow: auto;\n",
              "}\n",
              "\n",
              "#sk-container-id-1 input.sk-toggleable__control:checked~label.sk-toggleable__label-arrow:before {\n",
              "  content: \"▾\";\n",
              "}\n",
              "\n",
              "/* Pipeline/ColumnTransformer-specific style */\n",
              "\n",
              "#sk-container-id-1 div.sk-label input.sk-toggleable__control:checked~label.sk-toggleable__label {\n",
              "  color: var(--sklearn-color-text);\n",
              "  background-color: var(--sklearn-color-unfitted-level-2);\n",
              "}\n",
              "\n",
              "#sk-container-id-1 div.sk-label.fitted input.sk-toggleable__control:checked~label.sk-toggleable__label {\n",
              "  background-color: var(--sklearn-color-fitted-level-2);\n",
              "}\n",
              "\n",
              "/* Estimator-specific style */\n",
              "\n",
              "/* Colorize estimator box */\n",
              "#sk-container-id-1 div.sk-estimator input.sk-toggleable__control:checked~label.sk-toggleable__label {\n",
              "  /* unfitted */\n",
              "  background-color: var(--sklearn-color-unfitted-level-2);\n",
              "}\n",
              "\n",
              "#sk-container-id-1 div.sk-estimator.fitted input.sk-toggleable__control:checked~label.sk-toggleable__label {\n",
              "  /* fitted */\n",
              "  background-color: var(--sklearn-color-fitted-level-2);\n",
              "}\n",
              "\n",
              "#sk-container-id-1 div.sk-label label.sk-toggleable__label,\n",
              "#sk-container-id-1 div.sk-label label {\n",
              "  /* The background is the default theme color */\n",
              "  color: var(--sklearn-color-text-on-default-background);\n",
              "}\n",
              "\n",
              "/* On hover, darken the color of the background */\n",
              "#sk-container-id-1 div.sk-label:hover label.sk-toggleable__label {\n",
              "  color: var(--sklearn-color-text);\n",
              "  background-color: var(--sklearn-color-unfitted-level-2);\n",
              "}\n",
              "\n",
              "/* Label box, darken color on hover, fitted */\n",
              "#sk-container-id-1 div.sk-label.fitted:hover label.sk-toggleable__label.fitted {\n",
              "  color: var(--sklearn-color-text);\n",
              "  background-color: var(--sklearn-color-fitted-level-2);\n",
              "}\n",
              "\n",
              "/* Estimator label */\n",
              "\n",
              "#sk-container-id-1 div.sk-label label {\n",
              "  font-family: monospace;\n",
              "  font-weight: bold;\n",
              "  display: inline-block;\n",
              "  line-height: 1.2em;\n",
              "}\n",
              "\n",
              "#sk-container-id-1 div.sk-label-container {\n",
              "  text-align: center;\n",
              "}\n",
              "\n",
              "/* Estimator-specific */\n",
              "#sk-container-id-1 div.sk-estimator {\n",
              "  font-family: monospace;\n",
              "  border: 1px dotted var(--sklearn-color-border-box);\n",
              "  border-radius: 0.25em;\n",
              "  box-sizing: border-box;\n",
              "  margin-bottom: 0.5em;\n",
              "  /* unfitted */\n",
              "  background-color: var(--sklearn-color-unfitted-level-0);\n",
              "}\n",
              "\n",
              "#sk-container-id-1 div.sk-estimator.fitted {\n",
              "  /* fitted */\n",
              "  background-color: var(--sklearn-color-fitted-level-0);\n",
              "}\n",
              "\n",
              "/* on hover */\n",
              "#sk-container-id-1 div.sk-estimator:hover {\n",
              "  /* unfitted */\n",
              "  background-color: var(--sklearn-color-unfitted-level-2);\n",
              "}\n",
              "\n",
              "#sk-container-id-1 div.sk-estimator.fitted:hover {\n",
              "  /* fitted */\n",
              "  background-color: var(--sklearn-color-fitted-level-2);\n",
              "}\n",
              "\n",
              "/* Specification for estimator info (e.g. \"i\" and \"?\") */\n",
              "\n",
              "/* Common style for \"i\" and \"?\" */\n",
              "\n",
              ".sk-estimator-doc-link,\n",
              "a:link.sk-estimator-doc-link,\n",
              "a:visited.sk-estimator-doc-link {\n",
              "  float: right;\n",
              "  font-size: smaller;\n",
              "  line-height: 1em;\n",
              "  font-family: monospace;\n",
              "  background-color: var(--sklearn-color-background);\n",
              "  border-radius: 1em;\n",
              "  height: 1em;\n",
              "  width: 1em;\n",
              "  text-decoration: none !important;\n",
              "  margin-left: 0.5em;\n",
              "  text-align: center;\n",
              "  /* unfitted */\n",
              "  border: var(--sklearn-color-unfitted-level-1) 1pt solid;\n",
              "  color: var(--sklearn-color-unfitted-level-1);\n",
              "}\n",
              "\n",
              ".sk-estimator-doc-link.fitted,\n",
              "a:link.sk-estimator-doc-link.fitted,\n",
              "a:visited.sk-estimator-doc-link.fitted {\n",
              "  /* fitted */\n",
              "  border: var(--sklearn-color-fitted-level-1) 1pt solid;\n",
              "  color: var(--sklearn-color-fitted-level-1);\n",
              "}\n",
              "\n",
              "/* On hover */\n",
              "div.sk-estimator:hover .sk-estimator-doc-link:hover,\n",
              ".sk-estimator-doc-link:hover,\n",
              "div.sk-label-container:hover .sk-estimator-doc-link:hover,\n",
              ".sk-estimator-doc-link:hover {\n",
              "  /* unfitted */\n",
              "  background-color: var(--sklearn-color-unfitted-level-3);\n",
              "  color: var(--sklearn-color-background);\n",
              "  text-decoration: none;\n",
              "}\n",
              "\n",
              "div.sk-estimator.fitted:hover .sk-estimator-doc-link.fitted:hover,\n",
              ".sk-estimator-doc-link.fitted:hover,\n",
              "div.sk-label-container:hover .sk-estimator-doc-link.fitted:hover,\n",
              ".sk-estimator-doc-link.fitted:hover {\n",
              "  /* fitted */\n",
              "  background-color: var(--sklearn-color-fitted-level-3);\n",
              "  color: var(--sklearn-color-background);\n",
              "  text-decoration: none;\n",
              "}\n",
              "\n",
              "/* Span, style for the box shown on hovering the info icon */\n",
              ".sk-estimator-doc-link span {\n",
              "  display: none;\n",
              "  z-index: 9999;\n",
              "  position: relative;\n",
              "  font-weight: normal;\n",
              "  right: .2ex;\n",
              "  padding: .5ex;\n",
              "  margin: .5ex;\n",
              "  width: min-content;\n",
              "  min-width: 20ex;\n",
              "  max-width: 50ex;\n",
              "  color: var(--sklearn-color-text);\n",
              "  box-shadow: 2pt 2pt 4pt #999;\n",
              "  /* unfitted */\n",
              "  background: var(--sklearn-color-unfitted-level-0);\n",
              "  border: .5pt solid var(--sklearn-color-unfitted-level-3);\n",
              "}\n",
              "\n",
              ".sk-estimator-doc-link.fitted span {\n",
              "  /* fitted */\n",
              "  background: var(--sklearn-color-fitted-level-0);\n",
              "  border: var(--sklearn-color-fitted-level-3);\n",
              "}\n",
              "\n",
              ".sk-estimator-doc-link:hover span {\n",
              "  display: block;\n",
              "}\n",
              "\n",
              "/* \"?\"-specific style due to the `<a>` HTML tag */\n",
              "\n",
              "#sk-container-id-1 a.estimator_doc_link {\n",
              "  float: right;\n",
              "  font-size: 1rem;\n",
              "  line-height: 1em;\n",
              "  font-family: monospace;\n",
              "  background-color: var(--sklearn-color-background);\n",
              "  border-radius: 1rem;\n",
              "  height: 1rem;\n",
              "  width: 1rem;\n",
              "  text-decoration: none;\n",
              "  /* unfitted */\n",
              "  color: var(--sklearn-color-unfitted-level-1);\n",
              "  border: var(--sklearn-color-unfitted-level-1) 1pt solid;\n",
              "}\n",
              "\n",
              "#sk-container-id-1 a.estimator_doc_link.fitted {\n",
              "  /* fitted */\n",
              "  border: var(--sklearn-color-fitted-level-1) 1pt solid;\n",
              "  color: var(--sklearn-color-fitted-level-1);\n",
              "}\n",
              "\n",
              "/* On hover */\n",
              "#sk-container-id-1 a.estimator_doc_link:hover {\n",
              "  /* unfitted */\n",
              "  background-color: var(--sklearn-color-unfitted-level-3);\n",
              "  color: var(--sklearn-color-background);\n",
              "  text-decoration: none;\n",
              "}\n",
              "\n",
              "#sk-container-id-1 a.estimator_doc_link.fitted:hover {\n",
              "  /* fitted */\n",
              "  background-color: var(--sklearn-color-fitted-level-3);\n",
              "}\n",
              "</style><div id=\"sk-container-id-1\" class=\"sk-top-container\"><div class=\"sk-text-repr-fallback\"><pre>Pipeline(steps=[(&#x27;preprocessor&#x27;,\n",
              "                 ColumnTransformer(transformers=[(&#x27;num&#x27;,\n",
              "                                                  Pipeline(steps=[(&#x27;imputer&#x27;,\n",
              "                                                                   SimpleImputer(strategy=&#x27;median&#x27;)),\n",
              "                                                                  (&#x27;scaler&#x27;,\n",
              "                                                                   StandardScaler())]),\n",
              "                                                  [&#x27;orbital_period_days&#x27;,\n",
              "                                                   &#x27;planet_radius_rearth&#x27;,\n",
              "                                                   &#x27;insolation_flux_eflux&#x27;,\n",
              "                                                   &#x27;equilibrium_temp_K&#x27;,\n",
              "                                                   &#x27;stellar_teff_K&#x27;,\n",
              "                                                   &#x27;stellar_logg_cgs&#x27;,\n",
              "                                                   &#x27;stellar_radius_rsun&#x27;,\n",
              "                                                   &#x27;stellar_mag&#x27;, &#x27;ra_deg&#x27;,\n",
              "                                                   &#x27;dec_deg&#x27;,\n",
              "                                                   &#x27;log_o...\n",
              "                                                               monotone_constraints=None,\n",
              "                                                               multi_strategy=None,\n",
              "                                                               n_estimators=500,\n",
              "                                                               n_jobs=None,\n",
              "                                                               num_parallel_tree=None, ...)),\n",
              "                                                (&#x27;lgbm&#x27;,\n",
              "                                                 LGBMClassifier(class_weight=&#x27;balanced&#x27;,\n",
              "                                                                colsample_bytree=0.8,\n",
              "                                                                n_estimators=500,\n",
              "                                                                num_leaves=64,\n",
              "                                                                random_state=42,\n",
              "                                                                subsample=0.8))],\n",
              "                                    final_estimator=LGBMClassifier(class_weight=&#x27;balanced&#x27;,\n",
              "                                                                   learning_rate=0.05,\n",
              "                                                                   n_estimators=200,\n",
              "                                                                   num_leaves=32,\n",
              "                                                                   random_state=42),\n",
              "                                    n_jobs=-1))])</pre><b>In a Jupyter environment, please rerun this cell to show the HTML representation or trust the notebook. <br />On GitHub, the HTML representation is unable to render, please try loading this page with nbviewer.org.</b></div><div class=\"sk-container\" hidden><div class=\"sk-item sk-dashed-wrapped\"><div class=\"sk-label-container\"><div class=\"sk-label fitted sk-toggleable\"><input class=\"sk-toggleable__control sk-hidden--visually\" id=\"sk-estimator-id-1\" type=\"checkbox\" ><label for=\"sk-estimator-id-1\" class=\"sk-toggleable__label fitted sk-toggleable__label-arrow\"><div><div>Pipeline</div></div><div><a class=\"sk-estimator-doc-link fitted\" rel=\"noreferrer\" target=\"_blank\" href=\"https://scikit-learn.org/1.6/modules/generated/sklearn.pipeline.Pipeline.html\">?<span>Documentation for Pipeline</span></a><span class=\"sk-estimator-doc-link fitted\">i<span>Fitted</span></span></div></label><div class=\"sk-toggleable__content fitted\"><pre>Pipeline(steps=[(&#x27;preprocessor&#x27;,\n",
              "                 ColumnTransformer(transformers=[(&#x27;num&#x27;,\n",
              "                                                  Pipeline(steps=[(&#x27;imputer&#x27;,\n",
              "                                                                   SimpleImputer(strategy=&#x27;median&#x27;)),\n",
              "                                                                  (&#x27;scaler&#x27;,\n",
              "                                                                   StandardScaler())]),\n",
              "                                                  [&#x27;orbital_period_days&#x27;,\n",
              "                                                   &#x27;planet_radius_rearth&#x27;,\n",
              "                                                   &#x27;insolation_flux_eflux&#x27;,\n",
              "                                                   &#x27;equilibrium_temp_K&#x27;,\n",
              "                                                   &#x27;stellar_teff_K&#x27;,\n",
              "                                                   &#x27;stellar_logg_cgs&#x27;,\n",
              "                                                   &#x27;stellar_radius_rsun&#x27;,\n",
              "                                                   &#x27;stellar_mag&#x27;, &#x27;ra_deg&#x27;,\n",
              "                                                   &#x27;dec_deg&#x27;,\n",
              "                                                   &#x27;log_o...\n",
              "                                                               monotone_constraints=None,\n",
              "                                                               multi_strategy=None,\n",
              "                                                               n_estimators=500,\n",
              "                                                               n_jobs=None,\n",
              "                                                               num_parallel_tree=None, ...)),\n",
              "                                                (&#x27;lgbm&#x27;,\n",
              "                                                 LGBMClassifier(class_weight=&#x27;balanced&#x27;,\n",
              "                                                                colsample_bytree=0.8,\n",
              "                                                                n_estimators=500,\n",
              "                                                                num_leaves=64,\n",
              "                                                                random_state=42,\n",
              "                                                                subsample=0.8))],\n",
              "                                    final_estimator=LGBMClassifier(class_weight=&#x27;balanced&#x27;,\n",
              "                                                                   learning_rate=0.05,\n",
              "                                                                   n_estimators=200,\n",
              "                                                                   num_leaves=32,\n",
              "                                                                   random_state=42),\n",
              "                                    n_jobs=-1))])</pre></div> </div></div><div class=\"sk-serial\"><div class=\"sk-item sk-dashed-wrapped\"><div class=\"sk-label-container\"><div class=\"sk-label fitted sk-toggleable\"><input class=\"sk-toggleable__control sk-hidden--visually\" id=\"sk-estimator-id-2\" type=\"checkbox\" ><label for=\"sk-estimator-id-2\" class=\"sk-toggleable__label fitted sk-toggleable__label-arrow\"><div><div>preprocessor: ColumnTransformer</div></div><div><a class=\"sk-estimator-doc-link fitted\" rel=\"noreferrer\" target=\"_blank\" href=\"https://scikit-learn.org/1.6/modules/generated/sklearn.compose.ColumnTransformer.html\">?<span>Documentation for preprocessor: ColumnTransformer</span></a></div></label><div class=\"sk-toggleable__content fitted\"><pre>ColumnTransformer(transformers=[(&#x27;num&#x27;,\n",
              "                                 Pipeline(steps=[(&#x27;imputer&#x27;,\n",
              "                                                  SimpleImputer(strategy=&#x27;median&#x27;)),\n",
              "                                                 (&#x27;scaler&#x27;, StandardScaler())]),\n",
              "                                 [&#x27;orbital_period_days&#x27;, &#x27;planet_radius_rearth&#x27;,\n",
              "                                  &#x27;insolation_flux_eflux&#x27;, &#x27;equilibrium_temp_K&#x27;,\n",
              "                                  &#x27;stellar_teff_K&#x27;, &#x27;stellar_logg_cgs&#x27;,\n",
              "                                  &#x27;stellar_radius_rsun&#x27;, &#x27;stellar_mag&#x27;,\n",
              "                                  &#x27;ra_deg&#x27;, &#x27;dec_deg&#x27;,\n",
              "                                  &#x27;log_orbital_period_days&#x27;,\n",
              "                                  &#x27;log_planet_radius_rearth&#x27;,\n",
              "                                  &#x27;log_insolation_flux_eflux&#x27;,\n",
              "                                  &#x27;log_equilibrium_temp_K&#x27;, &#x27;radius_ratio&#x27;,\n",
              "                                  &#x27;temp_ratio&#x27;]),\n",
              "                                (&#x27;cat&#x27;,\n",
              "                                 Pipeline(steps=[(&#x27;imputer&#x27;,\n",
              "                                                  SimpleImputer(strategy=&#x27;most_frequent&#x27;)),\n",
              "                                                 (&#x27;encoder&#x27;,\n",
              "                                                  OneHotEncoder(handle_unknown=&#x27;ignore&#x27;))]),\n",
              "                                 [&#x27;source&#x27;])])</pre></div> </div></div><div class=\"sk-parallel\"><div class=\"sk-parallel-item\"><div class=\"sk-item\"><div class=\"sk-label-container\"><div class=\"sk-label fitted sk-toggleable\"><input class=\"sk-toggleable__control sk-hidden--visually\" id=\"sk-estimator-id-3\" type=\"checkbox\" ><label for=\"sk-estimator-id-3\" class=\"sk-toggleable__label fitted sk-toggleable__label-arrow\"><div><div>num</div></div></label><div class=\"sk-toggleable__content fitted\"><pre>[&#x27;orbital_period_days&#x27;, &#x27;planet_radius_rearth&#x27;, &#x27;insolation_flux_eflux&#x27;, &#x27;equilibrium_temp_K&#x27;, &#x27;stellar_teff_K&#x27;, &#x27;stellar_logg_cgs&#x27;, &#x27;stellar_radius_rsun&#x27;, &#x27;stellar_mag&#x27;, &#x27;ra_deg&#x27;, &#x27;dec_deg&#x27;, &#x27;log_orbital_period_days&#x27;, &#x27;log_planet_radius_rearth&#x27;, &#x27;log_insolation_flux_eflux&#x27;, &#x27;log_equilibrium_temp_K&#x27;, &#x27;radius_ratio&#x27;, &#x27;temp_ratio&#x27;]</pre></div> </div></div><div class=\"sk-serial\"><div class=\"sk-item\"><div class=\"sk-serial\"><div class=\"sk-item\"><div class=\"sk-estimator fitted sk-toggleable\"><input class=\"sk-toggleable__control sk-hidden--visually\" id=\"sk-estimator-id-4\" type=\"checkbox\" ><label for=\"sk-estimator-id-4\" class=\"sk-toggleable__label fitted sk-toggleable__label-arrow\"><div><div>SimpleImputer</div></div><div><a class=\"sk-estimator-doc-link fitted\" rel=\"noreferrer\" target=\"_blank\" href=\"https://scikit-learn.org/1.6/modules/generated/sklearn.impute.SimpleImputer.html\">?<span>Documentation for SimpleImputer</span></a></div></label><div class=\"sk-toggleable__content fitted\"><pre>SimpleImputer(strategy=&#x27;median&#x27;)</pre></div> </div></div><div class=\"sk-item\"><div class=\"sk-estimator fitted sk-toggleable\"><input class=\"sk-toggleable__control sk-hidden--visually\" id=\"sk-estimator-id-5\" type=\"checkbox\" ><label for=\"sk-estimator-id-5\" class=\"sk-toggleable__label fitted sk-toggleable__label-arrow\"><div><div>StandardScaler</div></div><div><a class=\"sk-estimator-doc-link fitted\" rel=\"noreferrer\" target=\"_blank\" href=\"https://scikit-learn.org/1.6/modules/generated/sklearn.preprocessing.StandardScaler.html\">?<span>Documentation for StandardScaler</span></a></div></label><div class=\"sk-toggleable__content fitted\"><pre>StandardScaler()</pre></div> </div></div></div></div></div></div></div><div class=\"sk-parallel-item\"><div class=\"sk-item\"><div class=\"sk-label-container\"><div class=\"sk-label fitted sk-toggleable\"><input class=\"sk-toggleable__control sk-hidden--visually\" id=\"sk-estimator-id-6\" type=\"checkbox\" ><label for=\"sk-estimator-id-6\" class=\"sk-toggleable__label fitted sk-toggleable__label-arrow\"><div><div>cat</div></div></label><div class=\"sk-toggleable__content fitted\"><pre>[&#x27;source&#x27;]</pre></div> </div></div><div class=\"sk-serial\"><div class=\"sk-item\"><div class=\"sk-serial\"><div class=\"sk-item\"><div class=\"sk-estimator fitted sk-toggleable\"><input class=\"sk-toggleable__control sk-hidden--visually\" id=\"sk-estimator-id-7\" type=\"checkbox\" ><label for=\"sk-estimator-id-7\" class=\"sk-toggleable__label fitted sk-toggleable__label-arrow\"><div><div>SimpleImputer</div></div><div><a class=\"sk-estimator-doc-link fitted\" rel=\"noreferrer\" target=\"_blank\" href=\"https://scikit-learn.org/1.6/modules/generated/sklearn.impute.SimpleImputer.html\">?<span>Documentation for SimpleImputer</span></a></div></label><div class=\"sk-toggleable__content fitted\"><pre>SimpleImputer(strategy=&#x27;most_frequent&#x27;)</pre></div> </div></div><div class=\"sk-item\"><div class=\"sk-estimator fitted sk-toggleable\"><input class=\"sk-toggleable__control sk-hidden--visually\" id=\"sk-estimator-id-8\" type=\"checkbox\" ><label for=\"sk-estimator-id-8\" class=\"sk-toggleable__label fitted sk-toggleable__label-arrow\"><div><div>OneHotEncoder</div></div><div><a class=\"sk-estimator-doc-link fitted\" rel=\"noreferrer\" target=\"_blank\" href=\"https://scikit-learn.org/1.6/modules/generated/sklearn.preprocessing.OneHotEncoder.html\">?<span>Documentation for OneHotEncoder</span></a></div></label><div class=\"sk-toggleable__content fitted\"><pre>OneHotEncoder(handle_unknown=&#x27;ignore&#x27;)</pre></div> </div></div></div></div></div></div></div></div></div><div class=\"sk-item\"><div class=\"sk-label-container\"><div class=\"sk-label fitted sk-toggleable\"><input class=\"sk-toggleable__control sk-hidden--visually\" id=\"sk-estimator-id-9\" type=\"checkbox\" ><label for=\"sk-estimator-id-9\" class=\"sk-toggleable__label fitted sk-toggleable__label-arrow\"><div><div>clf: StackingClassifier</div></div><div><a class=\"sk-estimator-doc-link fitted\" rel=\"noreferrer\" target=\"_blank\" href=\"https://scikit-learn.org/1.6/modules/generated/sklearn.ensemble.StackingClassifier.html\">?<span>Documentation for clf: StackingClassifier</span></a></div></label><div class=\"sk-toggleable__content fitted\"><pre>StackingClassifier(cv=5,\n",
              "                   estimators=[(&#x27;rf&#x27;,\n",
              "                                RandomForestClassifier(class_weight=&#x27;balanced&#x27;,\n",
              "                                                       max_depth=15,\n",
              "                                                       n_estimators=400,\n",
              "                                                       random_state=42)),\n",
              "                               (&#x27;xgb&#x27;,\n",
              "                                XGBClassifier(base_score=None, booster=None,\n",
              "                                              callbacks=None,\n",
              "                                              colsample_bylevel=None,\n",
              "                                              colsample_bynode=None,\n",
              "                                              colsample_bytree=0.8, device=None,\n",
              "                                              early_stopping_rounds=None,\n",
              "                                              enable_categorical=False,\n",
              "                                              eval_metric=&#x27;mlogl...\n",
              "                                              monotone_constraints=None,\n",
              "                                              multi_strategy=None,\n",
              "                                              n_estimators=500, n_jobs=None,\n",
              "                                              num_parallel_tree=None, ...)),\n",
              "                               (&#x27;lgbm&#x27;,\n",
              "                                LGBMClassifier(class_weight=&#x27;balanced&#x27;,\n",
              "                                               colsample_bytree=0.8,\n",
              "                                               n_estimators=500, num_leaves=64,\n",
              "                                               random_state=42,\n",
              "                                               subsample=0.8))],\n",
              "                   final_estimator=LGBMClassifier(class_weight=&#x27;balanced&#x27;,\n",
              "                                                  learning_rate=0.05,\n",
              "                                                  n_estimators=200,\n",
              "                                                  num_leaves=32,\n",
              "                                                  random_state=42),\n",
              "                   n_jobs=-1)</pre></div> </div></div><div class=\"sk-serial\"><div class=\"sk-item\"><div class=\"sk-parallel\"><div class=\"sk-parallel-item\"><div class=\"sk-item\"><div class=\"sk-label-container\"><div class=\"sk-label fitted sk-toggleable\"><label>rf</label></div></div><div class=\"sk-serial\"><div class=\"sk-item\"><div class=\"sk-estimator fitted sk-toggleable\"><input class=\"sk-toggleable__control sk-hidden--visually\" id=\"sk-estimator-id-10\" type=\"checkbox\" ><label for=\"sk-estimator-id-10\" class=\"sk-toggleable__label fitted sk-toggleable__label-arrow\"><div><div>RandomForestClassifier</div></div><div><a class=\"sk-estimator-doc-link fitted\" rel=\"noreferrer\" target=\"_blank\" href=\"https://scikit-learn.org/1.6/modules/generated/sklearn.ensemble.RandomForestClassifier.html\">?<span>Documentation for RandomForestClassifier</span></a></div></label><div class=\"sk-toggleable__content fitted\"><pre>RandomForestClassifier(class_weight=&#x27;balanced&#x27;, max_depth=15, n_estimators=400,\n",
              "                       random_state=42)</pre></div> </div></div></div></div></div><div class=\"sk-parallel-item\"><div class=\"sk-item\"><div class=\"sk-label-container\"><div class=\"sk-label fitted sk-toggleable\"><label>xgb</label></div></div><div class=\"sk-serial\"><div class=\"sk-item\"><div class=\"sk-estimator fitted sk-toggleable\"><input class=\"sk-toggleable__control sk-hidden--visually\" id=\"sk-estimator-id-11\" type=\"checkbox\" ><label for=\"sk-estimator-id-11\" class=\"sk-toggleable__label fitted sk-toggleable__label-arrow\"><div><div>XGBClassifier</div></div><div><a class=\"sk-estimator-doc-link fitted\" rel=\"noreferrer\" target=\"_blank\" href=\"https://xgboost.readthedocs.io/en/release_3.0.0/python/python_api.html#xgboost.XGBClassifier\">?<span>Documentation for XGBClassifier</span></a></div></label><div class=\"sk-toggleable__content fitted\"><pre>XGBClassifier(base_score=None, booster=None, callbacks=None,\n",
              "              colsample_bylevel=None, colsample_bynode=None,\n",
              "              colsample_bytree=0.8, device=None, early_stopping_rounds=None,\n",
              "              enable_categorical=False, eval_metric=&#x27;mlogloss&#x27;,\n",
              "              feature_types=None, feature_weights=None, gamma=None,\n",
              "              grow_policy=None, importance_type=None,\n",
              "              interaction_constraints=None, learning_rate=0.05, max_bin=None,\n",
              "              max_cat_threshold=None, max_cat_to_onehot=None,\n",
              "              max_delta_step=None, max_depth=7, max_leaves=None,\n",
              "              min_child_weight=None, missing=nan, monotone_constraints=None,\n",
              "              multi_strategy=None, n_estimators=500, n_jobs=None,\n",
              "              num_parallel_tree=None, ...)</pre></div> </div></div></div></div></div><div class=\"sk-parallel-item\"><div class=\"sk-item\"><div class=\"sk-label-container\"><div class=\"sk-label fitted sk-toggleable\"><label>lgbm</label></div></div><div class=\"sk-serial\"><div class=\"sk-item\"><div class=\"sk-estimator fitted sk-toggleable\"><input class=\"sk-toggleable__control sk-hidden--visually\" id=\"sk-estimator-id-12\" type=\"checkbox\" ><label for=\"sk-estimator-id-12\" class=\"sk-toggleable__label fitted sk-toggleable__label-arrow\"><div><div>LGBMClassifier</div></div></label><div class=\"sk-toggleable__content fitted\"><pre>LGBMClassifier(class_weight=&#x27;balanced&#x27;, colsample_bytree=0.8, n_estimators=500,\n",
              "               num_leaves=64, random_state=42, subsample=0.8)</pre></div> </div></div></div></div></div></div></div><div class=\"sk-item\"><div class=\"sk-parallel\"><div class=\"sk-parallel-item\"><div class=\"sk-item\"><div class=\"sk-label-container\"><div class=\"sk-label fitted sk-toggleable\"><label>final_estimator</label></div></div><div class=\"sk-serial\"><div class=\"sk-item\"><div class=\"sk-estimator fitted sk-toggleable\"><input class=\"sk-toggleable__control sk-hidden--visually\" id=\"sk-estimator-id-13\" type=\"checkbox\" ><label for=\"sk-estimator-id-13\" class=\"sk-toggleable__label fitted sk-toggleable__label-arrow\"><div><div>LGBMClassifier</div></div></label><div class=\"sk-toggleable__content fitted\"><pre>LGBMClassifier(class_weight=&#x27;balanced&#x27;, learning_rate=0.05, n_estimators=200,\n",
              "               num_leaves=32, random_state=42)</pre></div> </div></div></div></div></div></div></div></div></div></div></div></div></div>"
            ]
          },
          "metadata": {},
          "execution_count": 20
        }
      ]
    },
    {
      "cell_type": "code",
      "source": [
        "y_pred = pipeline.predict(X_test)"
      ],
      "metadata": {
        "colab": {
          "base_uri": "https://localhost:8080/"
        },
        "id": "jmF30Tmlqi0m",
        "outputId": "c3bce281-3c0b-4948-845b-3d404db194e6"
      },
      "execution_count": 21,
      "outputs": [
        {
          "output_type": "stream",
          "name": "stderr",
          "text": [
            "/usr/local/lib/python3.12/dist-packages/sklearn/utils/validation.py:2739: UserWarning: X does not have valid feature names, but LGBMClassifier was fitted with feature names\n",
            "  warnings.warn(\n",
            "/usr/local/lib/python3.12/dist-packages/sklearn/utils/validation.py:2739: UserWarning: X does not have valid feature names, but LGBMClassifier was fitted with feature names\n",
            "  warnings.warn(\n"
          ]
        }
      ]
    },
    {
      "cell_type": "code",
      "source": [
        "print(\"Accuracy:\", accuracy_score(y_test, y_pred))\n",
        "print(classification_report(y_test, y_pred))\n",
        "print(\"ROC-AUC (macro):\", roc_auc_score(\n",
        "    y_test, pipeline.predict_proba(X_test), multi_class=\"ovr\", average=\"macro\"\n",
        "))"
      ],
      "metadata": {
        "colab": {
          "base_uri": "https://localhost:8080/"
        },
        "id": "CH_dvyHzqkLe",
        "outputId": "a49118e7-aeee-4c10-e902-5f2a546d243d"
      },
      "execution_count": 22,
      "outputs": [
        {
          "output_type": "stream",
          "name": "stdout",
          "text": [
            "Accuracy: 0.7757326229111164\n",
            "                precision    recall  f1-score   support\n",
            "\n",
            "     CANDIDATE       0.79      0.70      0.74      1605\n",
            "     CONFIRMED       0.77      0.85      0.81      1259\n",
            "FALSE POSITIVE       0.76      0.79      0.78      1265\n",
            "\n",
            "      accuracy                           0.78      4129\n",
            "     macro avg       0.78      0.78      0.78      4129\n",
            "  weighted avg       0.78      0.78      0.77      4129\n",
            "\n"
          ]
        },
        {
          "output_type": "stream",
          "name": "stderr",
          "text": [
            "/usr/local/lib/python3.12/dist-packages/sklearn/utils/validation.py:2739: UserWarning: X does not have valid feature names, but LGBMClassifier was fitted with feature names\n",
            "  warnings.warn(\n",
            "/usr/local/lib/python3.12/dist-packages/sklearn/utils/validation.py:2739: UserWarning: X does not have valid feature names, but LGBMClassifier was fitted with feature names\n",
            "  warnings.warn(\n"
          ]
        },
        {
          "output_type": "stream",
          "name": "stdout",
          "text": [
            "ROC-AUC (macro): 0.9155698727266813\n"
          ]
        }
      ]
    },
    {
      "cell_type": "code",
      "source": [
        "from sklearn.metrics import confusion_matrix, ConfusionMatrixDisplay\n",
        "\n",
        "cm = confusion_matrix(y_test, y_pred, labels=pipeline.classes_)\n",
        "\n",
        "disp = ConfusionMatrixDisplay(confusion_matrix=cm, display_labels=pipeline.classes_)\n",
        "disp.plot(cmap=plt.cm.Blues)\n",
        "plt.title(\"Confusion Matrix\")\n",
        "plt.show()"
      ],
      "metadata": {
        "colab": {
          "base_uri": "https://localhost:8080/",
          "height": 472
        },
        "id": "0sW6hOrE5CmC",
        "outputId": "242cb038-cd31-4039-83ca-36300aee47fe"
      },
      "execution_count": 23,
      "outputs": [
        {
          "output_type": "display_data",
          "data": {
            "text/plain": [
              "<Figure size 640x480 with 2 Axes>"
            ],
            "image/png": "[encoded data removed]"
          },
          "metadata": {}
        }
      ]
    },
    {
      "cell_type": "code",
      "source": [
        "cm = confusion_matrix(y_test, y_pred, labels=pipeline.classes_)\n",
        "class_names = pipeline.classes_\n",
        "cm_df = pd.DataFrame(cm, index=class_names, columns=class_names)\n",
        "print(\"Confusion Matrix:\")\n",
        "display(cm_df)"
      ],
      "metadata": {
        "colab": {
          "base_uri": "https://localhost:8080/",
          "height": 161
        },
        "id": "oPkQAzbL7ePs",
        "outputId": "80cade3a-e7ae-4f84-a737-f79ccdd42da6"
      },
      "execution_count": 24,
      "outputs": [
        {
          "output_type": "stream",
          "name": "stdout",
          "text": [
            "Confusion Matrix:\n"
          ]
        },
        {
          "output_type": "display_data",
          "data": {
            "text/plain": [
              "                CANDIDATE  CONFIRMED  FALSE POSITIVE\n",
              "CANDIDATE            1129        220             256\n",
              "CONFIRMED             132       1070              57\n",
              "FALSE POSITIVE        168         93            1004"
            ],
            "text/html": [
              "\n",
              "  <div id=\"df-a92031ce-ef9b-44a7-aaab-c7cbfb698fde\" class=\"colab-df-container\">\n",
              "    <div>\n",
              "<style scoped>\n",
              "    .dataframe tbody tr th:only-of-type {\n",
              "        vertical-align: middle;\n",
              "    }\n",
              "\n",
              "    .dataframe tbody tr th {\n",
              "        vertical-align: top;\n",
              "    }\n",
              "\n",
              "    .dataframe thead th {\n",
              "        text-align: right;\n",
              "    }\n",
              "</style>\n",
              "<table border=\"1\" class=\"dataframe\">\n",
              "  <thead>\n",
              "    <tr style=\"text-align: right;\">\n",
              "      <th></th>\n",
              "      <th>CANDIDATE</th>\n",
              "      <th>CONFIRMED</th>\n",
              "      <th>FALSE POSITIVE</th>\n",
              "    </tr>\n",
              "  </thead>\n",
              "  <tbody>\n",
              "    <tr>\n",
              "      <th>CANDIDATE</th>\n",
              "      <td>1129</td>\n",
              "      <td>220</td>\n",
              "      <td>256</td>\n",
              "    </tr>\n",
              "    <tr>\n",
              "      <th>CONFIRMED</th>\n",
              "      <td>132</td>\n",
              "      <td>1070</td>\n",
              "      <td>57</td>\n",
              "    </tr>\n",
              "    <tr>\n",
              "      <th>FALSE POSITIVE</th>\n",
              "      <td>168</td>\n",
              "      <td>93</td>\n",
              "      <td>1004</td>\n",
              "    </tr>\n",
              "  </tbody>\n",
              "</table>\n",
              "</div>\n",
              "    <div class=\"colab-df-buttons\">\n",
              "\n",
              "  <div class=\"colab-df-container\">\n",
              "    <button class=\"colab-df-convert\" onclick=\"convertToInteractive('df-a92031ce-ef9b-44a7-aaab-c7cbfb698fde')\"\n",
              "            title=\"Convert this dataframe to an interactive table.\"\n",
              "            style=\"display:none;\">\n",
              "\n",
              "  <svg xmlns=\"http://www.w3.org/2000/svg\" height=\"24px\" viewBox=\"0 -960 960 960\">\n",
              "    <path d=\"M120-120v-720h720v720H120Zm60-500h600v-160H180v160Zm220 220h160v-160H400v160Zm0 220h160v-160H400v160ZM180-400h160v-160H180v160Zm440 0h160v-160H620v160ZM180-180h160v-160H180v160Zm440 0h160v-160H620v160Z\"/>\n",
              "  </svg>\n",
              "    </button>\n",
              "\n",
              "  <style>\n",
              "    .colab-df-container {\n",
              "      display:flex;\n",
              "      gap: 12px;\n",
              "    }\n",
              "\n",
              "    .colab-df-convert {\n",
              "      background-color: #E8F0FE;\n",
              "      border: none;\n",
              "      border-radius: 50%;\n",
              "      cursor: pointer;\n",
              "      display: none;\n",
              "      fill: #1967D2;\n",
              "      height: 32px;\n",
              "      padding: 0 0 0 0;\n",
              "      width: 32px;\n",
              "    }\n",
              "\n",
              "    .colab-df-convert:hover {\n",
              "      background-color: #E2EBFA;\n",
              "      box-shadow: 0px 1px 2px rgba(60, 64, 67, 0.3), 0px 1px 3px 1px rgba(60, 64, 67, 0.15);\n",
              "      fill: #174EA6;\n",
              "    }\n",
              "\n",
              "    .colab-df-buttons div {\n",
              "      margin-bottom: 4px;\n",
              "    }\n",
              "\n",
              "    [theme=dark] .colab-df-convert {\n",
              "      background-color: #3B4455;\n",
              "      fill: #D2E3FC;\n",
              "    }\n",
              "\n",
              "    [theme=dark] .colab-df-convert:hover {\n",
              "      background-color: #434B5C;\n",
              "      box-shadow: 0px 1px 3px 1px rgba(0, 0, 0, 0.15);\n",
              "      filter: drop-shadow(0px 1px 2px rgba(0, 0, 0, 0.3));\n",
              "      fill: #FFFFFF;\n",
              "    }\n",
              "  </style>\n",
              "\n",
              "    <script>\n",
              "      const buttonEl =\n",
              "        document.querySelector('#df-a92031ce-ef9b-44a7-aaab-c7cbfb698fde button.colab-df-convert');\n",
              "      buttonEl.style.display =\n",
              "        google.colab.kernel.accessAllowed ? 'block' : 'none';\n",
              "\n",
              "      async function convertToInteractive(key) {\n",
              "        const element = document.querySelector('#df-a92031ce-ef9b-44a7-aaab-c7cbfb698fde');\n",
              "        const dataTable =\n",
              "          await google.colab.kernel.invokeFunction('convertToInteractive',\n",
              "                                                    [key], {});\n",
              "        if (!dataTable) return;\n",
              "\n",
              "        const docLinkHtml = 'Like what you see? Visit the ' +\n",
              "          '<a target=\"_blank\" href=https://colab.research.google.com/notebooks/data_table.ipynb>data table notebook</a>'\n",
              "          + ' to learn more about interactive tables.';\n",
              "        element.innerHTML = '';\n",
              "        dataTable['output_type'] = 'display_data';\n",
              "        await google.colab.output.renderOutput(dataTable, element);\n",
              "        const docLink = document.createElement('div');\n",
              "        docLink.innerHTML = docLinkHtml;\n",
              "        element.appendChild(docLink);\n",
              "      }\n",
              "    </script>\n",
              "  </div>\n",
              "\n",
              "\n",
              "    <div id=\"df-b4426de5-3e62-4247-ae0c-83e0bd351a25\">\n",
              "      <button class=\"colab-df-quickchart\" onclick=\"quickchart('df-b4426de5-3e62-4247-ae0c-83e0bd351a25')\"\n",
              "                title=\"Suggest charts\"\n",
              "                style=\"display:none;\">\n",
              "\n",
              "<svg xmlns=\"http://www.w3.org/2000/svg\" height=\"24px\"viewBox=\"0 0 24 24\"\n",
              "     width=\"24px\">\n",
              "    <g>\n",
              "        <path d=\"M19 3H5c-1.1 0-2 .9-2 2v14c0 1.1.9 2 2 2h14c1.1 0 2-.9 2-2V5c0-1.1-.9-2-2-2zM9 17H7v-7h2v7zm4 0h-2V7h2v10zm4 0h-2v-4h2v4z\"/>\n",
              "    </g>\n",
              "</svg>\n",
              "      </button>\n",
              "\n",
              "<style>\n",
              "  .colab-df-quickchart {\n",
              "      --bg-color: #E8F0FE;\n",
              "      --fill-color: #1967D2;\n",
              "      --hover-bg-color: #E2EBFA;\n",
              "      --hover-fill-color: #174EA6;\n",
              "      --disabled-fill-color: #AAA;\n",
              "      --disabled-bg-color: #DDD;\n",
              "  }\n",
              "\n",
              "  [theme=dark] .colab-df-quickchart {\n",
              "      --bg-color: #3B4455;\n",
              "      --fill-color: #D2E3FC;\n",
              "      --hover-bg-color: #434B5C;\n",
              "      --hover-fill-color: #FFFFFF;\n",
              "      --disabled-bg-color: #3B4455;\n",
              "      --disabled-fill-color: #666;\n",
              "  }\n",
              "\n",
              "  .colab-df-quickchart {\n",
              "    background-color: var(--bg-color);\n",
              "    border: none;\n",
              "    border-radius: 50%;\n",
              "    cursor: pointer;\n",
              "    display: none;\n",
              "    fill: var(--fill-color);\n",
              "    height: 32px;\n",
              "    padding: 0;\n",
              "    width: 32px;\n",
              "  }\n",
              "\n",
              "  .colab-df-quickchart:hover {\n",
              "    background-color: var(--hover-bg-color);\n",
              "    box-shadow: 0 1px 2px rgba(60, 64, 67, 0.3), 0 1px 3px 1px rgba(60, 64, 67, 0.15);\n",
              "    fill: var(--button-hover-fill-color);\n",
              "  }\n",
              "\n",
              "  .colab-df-quickchart-complete:disabled,\n",
              "  .colab-df-quickchart-complete:disabled:hover {\n",
              "    background-color: var(--disabled-bg-color);\n",
              "    fill: var(--disabled-fill-color);\n",
              "    box-shadow: none;\n",
              "  }\n",
              "\n",
              "  .colab-df-spinner {\n",
              "    border: 2px solid var(--fill-color);\n",
              "    border-color: transparent;\n",
              "    border-bottom-color: var(--fill-color);\n",
              "    animation:\n",
              "      spin 1s steps(1) infinite;\n",
              "  }\n",
              "\n",
              "  @keyframes spin {\n",
              "    0% {\n",
              "      border-color: transparent;\n",
              "      border-bottom-color: var(--fill-color);\n",
              "      border-left-color: var(--fill-color);\n",
              "    }\n",
              "    20% {\n",
              "      border-color: transparent;\n",
              "      border-left-color: var(--fill-color);\n",
              "      border-top-color: var(--fill-color);\n",
              "    }\n",
              "    30% {\n",
              "      border-color: transparent;\n",
              "      border-left-color: var(--fill-color);\n",
              "      border-top-color: var(--fill-color);\n",
              "      border-right-color: var(--fill-color);\n",
              "    }\n",
              "    40% {\n",
              "      border-color: transparent;\n",
              "      border-right-color: var(--fill-color);\n",
              "      border-top-color: var(--fill-color);\n",
              "    }\n",
              "    60% {\n",
              "      border-color: transparent;\n",
              "      border-right-color: var(--fill-color);\n",
              "    }\n",
              "    80% {\n",
              "      border-color: transparent;\n",
              "      border-right-color: var(--fill-color);\n",
              "      border-bottom-color: var(--fill-color);\n",
              "    }\n",
              "    90% {\n",
              "      border-color: transparent;\n",
              "      border-bottom-color: var(--fill-color);\n",
              "    }\n",
              "  }\n",
              "</style>\n",
              "\n",
              "      <script>\n",
              "        async function quickchart(key) {\n",
              "          const quickchartButtonEl =\n",
              "            document.querySelector('#' + key + ' button');\n",
              "          quickchartButtonEl.disabled = true;  // To prevent multiple clicks.\n",
              "          quickchartButtonEl.classList.add('colab-df-spinner');\n",
              "          try {\n",
              "            const charts = await google.colab.kernel.invokeFunction(\n",
              "                'suggestCharts', [key], {});\n",
              "          } catch (error) {\n",
              "            console.error('Error during call to suggestCharts:', error);\n",
              "          }\n",
              "          quickchartButtonEl.classList.remove('colab-df-spinner');\n",
              "          quickchartButtonEl.classList.add('colab-df-quickchart-complete');\n",
              "        }\n",
              "        (() => {\n",
              "          let quickchartButtonEl =\n",
              "            document.querySelector('#df-b4426de5-3e62-4247-ae0c-83e0bd351a25 button');\n",
              "          quickchartButtonEl.style.display =\n",
              "            google.colab.kernel.accessAllowed ? 'block' : 'none';\n",
              "        })();\n",
              "      </script>\n",
              "    </div>\n",
              "\n",
              "  <div id=\"id_98d1f3b3-b5c1-4414-9261-7e6be3c06f7c\">\n",
              "    <style>\n",
              "      .colab-df-generate {\n",
              "        background-color: #E8F0FE;\n",
              "        border: none;\n",
              "        border-radius: 50%;\n",
              "        cursor: pointer;\n",
              "        display: none;\n",
              "        fill: #1967D2;\n",
              "        height: 32px;\n",
              "        padding: 0 0 0 0;\n",
              "        width: 32px;\n",
              "      }\n",
              "\n",
              "      .colab-df-generate:hover {\n",
              "        background-color: #E2EBFA;\n",
              "        box-shadow: 0px 1px 2px rgba(60, 64, 67, 0.3), 0px 1px 3px 1px rgba(60, 64, 67, 0.15);\n",
              "        fill: #174EA6;\n",
              "      }\n",
              "\n",
              "      [theme=dark] .colab-df-generate {\n",
              "        background-color: #3B4455;\n",
              "        fill: #D2E3FC;\n",
              "      }\n",
              "\n",
              "      [theme=dark] .colab-df-generate:hover {\n",
              "        background-color: #434B5C;\n",
              "        box-shadow: 0px 1px 3px 1px rgba(0, 0, 0, 0.15);\n",
              "        filter: drop-shadow(0px 1px 2px rgba(0, 0, 0, 0.3));\n",
              "        fill: #FFFFFF;\n",
              "      }\n",
              "    </style>\n",
              "    <button class=\"colab-df-generate\" onclick=\"generateWithVariable('cm_df')\"\n",
              "            title=\"Generate code using this dataframe.\"\n",
              "            style=\"display:none;\">\n",
              "\n",
              "  <svg xmlns=\"http://www.w3.org/2000/svg\" height=\"24px\"viewBox=\"0 0 24 24\"\n",
              "       width=\"24px\">\n",
              "    <path d=\"M7,19H8.4L18.45,9,17,7.55,7,17.6ZM5,21V16.75L18.45,3.32a2,2,0,0,1,2.83,0l1.4,1.43a1.91,1.91,0,0,1,.58,1.4,1.91,1.91,0,0,1-.58,1.4L9.25,21ZM18.45,9,17,7.55Zm-12,3A5.31,5.31,0,0,0,4.9,8.1,5.31,5.31,0,0,0,1,6.5,5.31,5.31,0,0,0,4.9,4.9,5.31,5.31,0,0,0,6.5,1,5.31,5.31,0,0,0,8.1,4.9,5.31,5.31,0,0,0,12,6.5,5.46,5.46,0,0,0,6.5,12Z\"/>\n",
              "  </svg>\n",
              "    </button>\n",
              "    <script>\n",
              "      (() => {\n",
              "      const buttonEl =\n",
              "        document.querySelector('#id_98d1f3b3-b5c1-4414-9261-7e6be3c06f7c button.colab-df-generate');\n",
              "      buttonEl.style.display =\n",
              "        google.colab.kernel.accessAllowed ? 'block' : 'none';\n",
              "\n",
              "      buttonEl.onclick = () => {\n",
              "        google.colab.notebook.generateWithVariable('cm_df');\n",
              "      }\n",
              "      })();\n",
              "    </script>\n",
              "  </div>\n",
              "\n",
              "    </div>\n",
              "  </div>\n"
            ],
            "application/vnd.google.colaboratory.intrinsic+json": {
              "type": "dataframe",
              "variable_name": "cm_df",
              "summary": "{\n  \"name\": \"cm_df\",\n  \"rows\": 3,\n  \"fields\": [\n    {\n      \"column\": \"CANDIDATE\",\n      \"properties\": {\n        \"dtype\": \"number\",\n        \"std\": 565,\n        \"min\": 132,\n        \"max\": 1129,\n        \"num_unique_values\": 3,\n        \"samples\": [\n          1129,\n          132,\n          168\n        ],\n        \"semantic_type\": \"\",\n        \"description\": \"\"\n      }\n    },\n    {\n      \"column\": \"CONFIRMED\",\n      \"properties\": {\n        \"dtype\": \"number\",\n        \"std\": 531,\n        \"min\": 93,\n        \"max\": 1070,\n        \"num_unique_values\": 3,\n        \"samples\": [\n          220,\n          1070,\n          93\n        ],\n        \"semantic_type\": \"\",\n        \"description\": \"\"\n      }\n    },\n    {\n      \"column\": \"FALSE POSITIVE\",\n      \"properties\": {\n        \"dtype\": \"number\",\n        \"std\": 499,\n        \"min\": 57,\n        \"max\": 1004,\n        \"num_unique_values\": 3,\n        \"samples\": [\n          256,\n          57,\n          1004\n        ],\n        \"semantic_type\": \"\",\n        \"description\": \"\"\n      }\n    }\n  ]\n}"
            }
          },
          "metadata": {}
        }
      ]
    },
    {
      "cell_type": "markdown",
      "source": [
        "Compared to the literature we achieved competitive accuracy, precision, recall, f1-score and ROC-AUC with **Better Generalization**"
      ],
      "metadata": {
        "id": "OPJnnv0O8vFo"
      }
    },
    {
      "cell_type": "markdown",
      "source": [
        "# Weights and Metadata files"
      ],
      "metadata": {
        "id": "tAG4w8-U-WEc"
      }
    },
    {
      "cell_type": "code",
      "source": [
        "import pickle\n",
        "model_filename = \"exoplanet_pipeline.pkl\"\n",
        "with open(model_filename, \"wb\") as f:\n",
        "    pickle.dump(pipeline, f)\n",
        "\n",
        "print(f\"Model saved to {model_filename}\")"
      ],
      "metadata": {
        "colab": {
          "base_uri": "https://localhost:8080/"
        },
        "id": "UWqLKTfkPz3I",
        "outputId": "8faa3f23-4045-444c-e20f-969494051da6"
      },
      "execution_count": 25,
      "outputs": [
        {
          "output_type": "stream",
          "name": "stdout",
          "text": [
            "Model saved to exoplanet_pipeline.pkl\n"
          ]
        }
      ]
    },
    {
      "cell_type": "code",
      "metadata": {
        "id": "a0b3a23a"
      },
      "source": [
        "def save_artifacts(model, model_path, metadata, metadata_path):\n",
        "    \"\"\"Saves the trained model and metadata using pickle.\"\"\"\n",
        "    with open(model_path, 'wb') as f:\n",
        "        pickle.dump(model, f)\n",
        "    with open(metadata_path, 'wb') as f:\n",
        "        pickle.dump(metadata, f)\n",
        "    print(f\"Artifacts saved: model to {model_path}, metadata to {metadata_path}\")\n",
        "\n",
        "def load_artifacts(model_path, metadata_path):\n",
        "    \"\"\"Loads the trained model and metadata using pickle.\"\"\"\n",
        "    with open(model_path, 'rb') as f:\n",
        "        model = pickle.load(f)\n",
        "    with open(metadata_path, 'rb') as f:\n",
        "        metadata = pickle.load(f)\n",
        "    print(f\"Artifacts loaded: model from {model_path}, metadata from {metadata_path}\")\n",
        "    return model, metadata"
      ],
      "execution_count": 26,
      "outputs": []
    },
    {
      "cell_type": "code",
      "source": [
        "feature_cols = X.columns.tolist()\n",
        "\n",
        "metrics = {\n",
        "    \"accuracy\": accuracy_score(y_test, y_pred),\n",
        "    \"roc_auc_macro\": roc_auc_score(y_test, pipeline.predict_proba(X_test), multi_class=\"ovr\", average=\"macro\"),\n",
        "    \"classification_report\": classification_report(y_test, y_pred, output_dict=True)\n",
        "}\n",
        "\n",
        "categories = sorted(y.unique())\n",
        "\n",
        "metadata = {\"feature_cols\": feature_cols,\n",
        "            \"baseline_stats\": \"Placeholder for baseline statistics\",\n",
        "            \"metrics\": metrics,\n",
        "            \"categories\": categories}\n",
        "\n",
        "save_artifacts(pipeline, \"./exo_model.pkl\", metadata, \"./exo_meta.pkl\")"
      ],
      "metadata": {
        "colab": {
          "base_uri": "https://localhost:8080/"
        },
        "id": "I4x2n6NB8SdL",
        "outputId": "98b5627c-f472-4be6-87b3-9f327965b096"
      },
      "execution_count": 27,
      "outputs": [
        {
          "output_type": "stream",
          "name": "stderr",
          "text": [
            "/usr/local/lib/python3.12/dist-packages/sklearn/utils/validation.py:2739: UserWarning: X does not have valid feature names, but LGBMClassifier was fitted with feature names\n",
            "  warnings.warn(\n",
            "/usr/local/lib/python3.12/dist-packages/sklearn/utils/validation.py:2739: UserWarning: X does not have valid feature names, but LGBMClassifier was fitted with feature names\n",
            "  warnings.warn(\n"
          ]
        },
        {
          "output_type": "stream",
          "name": "stdout",
          "text": [
            "Artifacts saved: model to ./exo_model.pkl, metadata to ./exo_meta.pkl\n"
          ]
        }
      ]
    },
    {
      "cell_type": "markdown",
      "source": [
        "# Inference"
      ],
      "metadata": {
        "id": "U5noAJ3atfhq"
      }
    },
    {
      "cell_type": "code",
      "source": [
        "# Get a single sample from the test set\n",
        "sample = X_test.iloc[[0]]\n",
        "\n",
        "# Make a prediction\n",
        "prediction = pipeline.predict(sample)\n",
        "\n",
        "print(\"Sample features:\")\n",
        "display(sample)\n",
        "print(\"\\nPrediction:\", prediction[0])"
      ],
      "metadata": {
        "colab": {
          "base_uri": "https://localhost:8080/",
          "height": 230
        },
        "id": "PxcZcD6EtIpK",
        "outputId": "766115ee-1a51-4398-a34b-94e392201965"
      },
      "execution_count": 28,
      "outputs": [
        {
          "output_type": "stream",
          "name": "stdout",
          "text": [
            "Sample features:\n"
          ]
        },
        {
          "output_type": "stream",
          "name": "stderr",
          "text": [
            "/usr/local/lib/python3.12/dist-packages/sklearn/utils/validation.py:2739: UserWarning: X does not have valid feature names, but LGBMClassifier was fitted with feature names\n",
            "  warnings.warn(\n",
            "/usr/local/lib/python3.12/dist-packages/sklearn/utils/validation.py:2739: UserWarning: X does not have valid feature names, but LGBMClassifier was fitted with feature names\n",
            "  warnings.warn(\n"
          ]
        },
        {
          "output_type": "display_data",
          "data": {
            "text/plain": [
              "      orbital_period_days  planet_radius_rearth  insolation_flux_eflux  \\\n",
              "8942              1.81708                  1.39                1056.39   \n",
              "\n",
              "      equilibrium_temp_K  stellar_teff_K  stellar_logg_cgs  \\\n",
              "8942              1454.0          5808.0             4.503   \n",
              "\n",
              "      stellar_radius_rsun  stellar_mag     ra_deg   dec_deg source  \\\n",
              "8942                0.963       15.591  282.55869  48.63097    KOI   \n",
              "\n",
              "      log_orbital_period_days  log_planet_radius_rearth  \\\n",
              "8942                 1.035701                  0.871293   \n",
              "\n",
              "      log_insolation_flux_eflux  log_equilibrium_temp_K  radius_ratio  \\\n",
              "8942                   6.963559                7.282761      1.443405   \n",
              "\n",
              "      temp_ratio  \n",
              "8942    0.250344  "
            ],
            "text/html": [
              "\n",
              "  <div id=\"df-67d262a0-5d64-4b6c-a7db-b5020c86e62b\" class=\"colab-df-container\">\n",
              "    <div>\n",
              "<style scoped>\n",
              "    .dataframe tbody tr th:only-of-type {\n",
              "        vertical-align: middle;\n",
              "    }\n",
              "\n",
              "    .dataframe tbody tr th {\n",
              "        vertical-align: top;\n",
              "    }\n",
              "\n",
              "    .dataframe thead th {\n",
              "        text-align: right;\n",
              "    }\n",
              "</style>\n",
              "<table border=\"1\" class=\"dataframe\">\n",
              "  <thead>\n",
              "    <tr style=\"text-align: right;\">\n",
              "      <th></th>\n",
              "      <th>orbital_period_days</th>\n",
              "      <th>planet_radius_rearth</th>\n",
              "      <th>insolation_flux_eflux</th>\n",
              "      <th>equilibrium_temp_K</th>\n",
              "      <th>stellar_teff_K</th>\n",
              "      <th>stellar_logg_cgs</th>\n",
              "      <th>stellar_radius_rsun</th>\n",
              "      <th>stellar_mag</th>\n",
              "      <th>ra_deg</th>\n",
              "      <th>dec_deg</th>\n",
              "      <th>source</th>\n",
              "      <th>log_orbital_period_days</th>\n",
              "      <th>log_planet_radius_rearth</th>\n",
              "      <th>log_insolation_flux_eflux</th>\n",
              "      <th>log_equilibrium_temp_K</th>\n",
              "      <th>radius_ratio</th>\n",
              "      <th>temp_ratio</th>\n",
              "    </tr>\n",
              "  </thead>\n",
              "  <tbody>\n",
              "    <tr>\n",
              "      <th>8942</th>\n",
              "      <td>1.81708</td>\n",
              "      <td>1.39</td>\n",
              "      <td>1056.39</td>\n",
              "      <td>1454.0</td>\n",
              "      <td>5808.0</td>\n",
              "      <td>4.503</td>\n",
              "      <td>0.963</td>\n",
              "      <td>15.591</td>\n",
              "      <td>282.55869</td>\n",
              "      <td>48.63097</td>\n",
              "      <td>KOI</td>\n",
              "      <td>1.035701</td>\n",
              "      <td>0.871293</td>\n",
              "      <td>6.963559</td>\n",
              "      <td>7.282761</td>\n",
              "      <td>1.443405</td>\n",
              "      <td>0.250344</td>\n",
              "    </tr>\n",
              "  </tbody>\n",
              "</table>\n",
              "</div>\n",
              "    <div class=\"colab-df-buttons\">\n",
              "\n",
              "  <div class=\"colab-df-container\">\n",
              "    <button class=\"colab-df-convert\" onclick=\"convertToInteractive('df-67d262a0-5d64-4b6c-a7db-b5020c86e62b')\"\n",
              "            title=\"Convert this dataframe to an interactive table.\"\n",
              "            style=\"display:none;\">\n",
              "\n",
              "  <svg xmlns=\"http://www.w3.org/2000/svg\" height=\"24px\" viewBox=\"0 -960 960 960\">\n",
              "    <path d=\"M120-120v-720h720v720H120Zm60-500h600v-160H180v160Zm220 220h160v-160H400v160Zm0 220h160v-160H400v160ZM180-400h160v-160H180v160Zm440 0h160v-160H620v160ZM180-180h160v-160H180v160Zm440 0h160v-160H620v160Z\"/>\n",
              "  </svg>\n",
              "    </button>\n",
              "\n",
              "  <style>\n",
              "    .colab-df-container {\n",
              "      display:flex;\n",
              "      gap: 12px;\n",
              "    }\n",
              "\n",
              "    .colab-df-convert {\n",
              "      background-color: #E8F0FE;\n",
              "      border: none;\n",
              "      border-radius: 50%;\n",
              "      cursor: pointer;\n",
              "      display: none;\n",
              "      fill: #1967D2;\n",
              "      height: 32px;\n",
              "      padding: 0 0 0 0;\n",
              "      width: 32px;\n",
              "    }\n",
              "\n",
              "    .colab-df-convert:hover {\n",
              "      background-color: #E2EBFA;\n",
              "      box-shadow: 0px 1px 2px rgba(60, 64, 67, 0.3), 0px 1px 3px 1px rgba(60, 64, 67, 0.15);\n",
              "      fill: #174EA6;\n",
              "    }\n",
              "\n",
              "    .colab-df-buttons div {\n",
              "      margin-bottom: 4px;\n",
              "    }\n",
              "\n",
              "    [theme=dark] .colab-df-convert {\n",
              "      background-color: #3B4455;\n",
              "      fill: #D2E3FC;\n",
              "    }\n",
              "\n",
              "    [theme=dark] .colab-df-convert:hover {\n",
              "      background-color: #434B5C;\n",
              "      box-shadow: 0px 1px 3px 1px rgba(0, 0, 0, 0.15);\n",
              "      filter: drop-shadow(0px 1px 2px rgba(0, 0, 0, 0.3));\n",
              "      fill: #FFFFFF;\n",
              "    }\n",
              "  </style>\n",
              "\n",
              "    <script>\n",
              "      const buttonEl =\n",
              "        document.querySelector('#df-67d262a0-5d64-4b6c-a7db-b5020c86e62b button.colab-df-convert');\n",
              "      buttonEl.style.display =\n",
              "        google.colab.kernel.accessAllowed ? 'block' : 'none';\n",
              "\n",
              "      async function convertToInteractive(key) {\n",
              "        const element = document.querySelector('#df-67d262a0-5d64-4b6c-a7db-b5020c86e62b');\n",
              "        const dataTable =\n",
              "          await google.colab.kernel.invokeFunction('convertToInteractive',\n",
              "                                                    [key], {});\n",
              "        if (!dataTable) return;\n",
              "\n",
              "        const docLinkHtml = 'Like what you see? Visit the ' +\n",
              "          '<a target=\"_blank\" href=https://colab.research.google.com/notebooks/data_table.ipynb>data table notebook</a>'\n",
              "          + ' to learn more about interactive tables.';\n",
              "        element.innerHTML = '';\n",
              "        dataTable['output_type'] = 'display_data';\n",
              "        await google.colab.output.renderOutput(dataTable, element);\n",
              "        const docLink = document.createElement('div');\n",
              "        docLink.innerHTML = docLinkHtml;\n",
              "        element.appendChild(docLink);\n",
              "      }\n",
              "    </script>\n",
              "  </div>\n",
              "\n",
              "\n",
              "  <div id=\"id_91159b29-9dba-4d7f-939a-276e95f3cbb8\">\n",
              "    <style>\n",
              "      .colab-df-generate {\n",
              "        background-color: #E8F0FE;\n",
              "        border: none;\n",
              "        border-radius: 50%;\n",
              "        cursor: pointer;\n",
              "        display: none;\n",
              "        fill: #1967D2;\n",
              "        height: 32px;\n",
              "        padding: 0 0 0 0;\n",
              "        width: 32px;\n",
              "      }\n",
              "\n",
              "      .colab-df-generate:hover {\n",
              "        background-color: #E2EBFA;\n",
              "        box-shadow: 0px 1px 2px rgba(60, 64, 67, 0.3), 0px 1px 3px 1px rgba(60, 64, 67, 0.15);\n",
              "        fill: #174EA6;\n",
              "      }\n",
              "\n",
              "      [theme=dark] .colab-df-generate {\n",
              "        background-color: #3B4455;\n",
              "        fill: #D2E3FC;\n",
              "      }\n",
              "\n",
              "      [theme=dark] .colab-df-generate:hover {\n",
              "        background-color: #434B5C;\n",
              "        box-shadow: 0px 1px 3px 1px rgba(0, 0, 0, 0.15);\n",
              "        filter: drop-shadow(0px 1px 2px rgba(0, 0, 0, 0.3));\n",
              "        fill: #FFFFFF;\n",
              "      }\n",
              "    </style>\n",
              "    <button class=\"colab-df-generate\" onclick=\"generateWithVariable('sample')\"\n",
              "            title=\"Generate code using this dataframe.\"\n",
              "            style=\"display:none;\">\n",
              "\n",
              "  <svg xmlns=\"http://www.w3.org/2000/svg\" height=\"24px\"viewBox=\"0 0 24 24\"\n",
              "       width=\"24px\">\n",
              "    <path d=\"M7,19H8.4L18.45,9,17,7.55,7,17.6ZM5,21V16.75L18.45,3.32a2,2,0,0,1,2.83,0l1.4,1.43a1.91,1.91,0,0,1,.58,1.4,1.91,1.91,0,0,1-.58,1.4L9.25,21ZM18.45,9,17,7.55Zm-12,3A5.31,5.31,0,0,0,4.9,8.1,5.31,5.31,0,0,0,1,6.5,5.31,5.31,0,0,0,4.9,4.9,5.31,5.31,0,0,0,6.5,1,5.31,5.31,0,0,0,8.1,4.9,5.31,5.31,0,0,0,12,6.5,5.46,5.46,0,0,0,6.5,12Z\"/>\n",
              "  </svg>\n",
              "    </button>\n",
              "    <script>\n",
              "      (() => {\n",
              "      const buttonEl =\n",
              "        document.querySelector('#id_91159b29-9dba-4d7f-939a-276e95f3cbb8 button.colab-df-generate');\n",
              "      buttonEl.style.display =\n",
              "        google.colab.kernel.accessAllowed ? 'block' : 'none';\n",
              "\n",
              "      buttonEl.onclick = () => {\n",
              "        google.colab.notebook.generateWithVariable('sample');\n",
              "      }\n",
              "      })();\n",
              "    </script>\n",
              "  </div>\n",
              "\n",
              "    </div>\n",
              "  </div>\n"
            ],
            "application/vnd.google.colaboratory.intrinsic+json": {
              "type": "dataframe",
              "variable_name": "sample",
              "summary": "{\n  \"name\": \"sample\",\n  \"rows\": 1,\n  \"fields\": [\n    {\n      \"column\": \"orbital_period_days\",\n      \"properties\": {\n        \"dtype\": \"number\",\n        \"std\": null,\n        \"min\": 1.817079849,\n        \"max\": 1.817079849,\n        \"num_unique_values\": 1,\n        \"samples\": [\n          1.817079849\n        ],\n        \"semantic_type\": \"\",\n        \"description\": \"\"\n      }\n    },\n    {\n      \"column\": \"planet_radius_rearth\",\n      \"properties\": {\n        \"dtype\": \"number\",\n        \"std\": null,\n        \"min\": 1.39,\n        \"max\": 1.39,\n        \"num_unique_values\": 1,\n        \"samples\": [\n          1.39\n        ],\n        \"semantic_type\": \"\",\n        \"description\": \"\"\n      }\n    },\n    {\n      \"column\": \"insolation_flux_eflux\",\n      \"properties\": {\n        \"dtype\": \"number\",\n        \"std\": null,\n        \"min\": 1056.39,\n        \"max\": 1056.39,\n        \"num_unique_values\": 1,\n        \"samples\": [\n          1056.39\n        ],\n        \"semantic_type\": \"\",\n        \"description\": \"\"\n      }\n    },\n    {\n      \"column\": \"equilibrium_temp_K\",\n      \"properties\": {\n        \"dtype\": \"number\",\n        \"std\": null,\n        \"min\": 1454.0,\n        \"max\": 1454.0,\n        \"num_unique_values\": 1,\n        \"samples\": [\n          1454.0\n        ],\n        \"semantic_type\": \"\",\n        \"description\": \"\"\n      }\n    },\n    {\n      \"column\": \"stellar_teff_K\",\n      \"properties\": {\n        \"dtype\": \"number\",\n        \"std\": null,\n        \"min\": 5808.0,\n        \"max\": 5808.0,\n        \"num_unique_values\": 1,\n        \"samples\": [\n          5808.0\n        ],\n        \"semantic_type\": \"\",\n        \"description\": \"\"\n      }\n    },\n    {\n      \"column\": \"stellar_logg_cgs\",\n      \"properties\": {\n        \"dtype\": \"number\",\n        \"std\": null,\n        \"min\": 4.503,\n        \"max\": 4.503,\n        \"num_unique_values\": 1,\n        \"samples\": [\n          4.503\n        ],\n        \"semantic_type\": \"\",\n        \"description\": \"\"\n      }\n    },\n    {\n      \"column\": \"stellar_radius_rsun\",\n      \"properties\": {\n        \"dtype\": \"number\",\n        \"std\": null,\n        \"min\": 0.963,\n        \"max\": 0.963,\n        \"num_unique_values\": 1,\n        \"samples\": [\n          0.963\n        ],\n        \"semantic_type\": \"\",\n        \"description\": \"\"\n      }\n    },\n    {\n      \"column\": \"stellar_mag\",\n      \"properties\": {\n        \"dtype\": \"number\",\n        \"std\": null,\n        \"min\": 15.591,\n        \"max\": 15.591,\n        \"num_unique_values\": 1,\n        \"samples\": [\n          15.591\n        ],\n        \"semantic_type\": \"\",\n        \"description\": \"\"\n      }\n    },\n    {\n      \"column\": \"ra_deg\",\n      \"properties\": {\n        \"dtype\": \"number\",\n        \"std\": null,\n        \"min\": 282.55869,\n        \"max\": 282.55869,\n        \"num_unique_values\": 1,\n        \"samples\": [\n          282.55869\n        ],\n        \"semantic_type\": \"\",\n        \"description\": \"\"\n      }\n    },\n    {\n      \"column\": \"dec_deg\",\n      \"properties\": {\n        \"dtype\": \"number\",\n        \"std\": null,\n        \"min\": 48.63097,\n        \"max\": 48.63097,\n        \"num_unique_values\": 1,\n        \"samples\": [\n          48.63097\n        ],\n        \"semantic_type\": \"\",\n        \"description\": \"\"\n      }\n    },\n    {\n      \"column\": \"source\",\n      \"properties\": {\n        \"dtype\": \"string\",\n        \"num_unique_values\": 1,\n        \"samples\": [\n          \"KOI\"\n        ],\n        \"semantic_type\": \"\",\n        \"description\": \"\"\n      }\n    },\n    {\n      \"column\": \"log_orbital_period_days\",\n      \"properties\": {\n        \"dtype\": \"number\",\n        \"std\": null,\n        \"min\": 1.0357008338954232,\n        \"max\": 1.0357008338954232,\n        \"num_unique_values\": 1,\n        \"samples\": [\n          1.0357008338954232\n        ],\n        \"semantic_type\": \"\",\n        \"description\": \"\"\n      }\n    },\n    {\n      \"column\": \"log_planet_radius_rearth\",\n      \"properties\": {\n        \"dtype\": \"number\",\n        \"std\": null,\n        \"min\": 0.8712933659434192,\n        \"max\": 0.8712933659434192,\n        \"num_unique_values\": 1,\n        \"samples\": [\n          0.8712933659434192\n        ],\n        \"semantic_type\": \"\",\n        \"description\": \"\"\n      }\n    },\n    {\n      \"column\": \"log_insolation_flux_eflux\",\n      \"properties\": {\n        \"dtype\": \"number\",\n        \"std\": null,\n        \"min\": 6.9635588865975615,\n        \"max\": 6.9635588865975615,\n        \"num_unique_values\": 1,\n        \"samples\": [\n          6.9635588865975615\n        ],\n        \"semantic_type\": \"\",\n        \"description\": \"\"\n      }\n    },\n    {\n      \"column\": \"log_equilibrium_temp_K\",\n      \"properties\": {\n        \"dtype\": \"number\",\n        \"std\": null,\n        \"min\": 7.282761179605593,\n        \"max\": 7.282761179605593,\n        \"num_unique_values\": 1,\n        \"samples\": [\n          7.282761179605593\n        ],\n        \"semantic_type\": \"\",\n        \"description\": \"\"\n      }\n    },\n    {\n      \"column\": \"radius_ratio\",\n      \"properties\": {\n        \"dtype\": \"number\",\n        \"std\": null,\n        \"min\": 1.443404523982841,\n        \"max\": 1.443404523982841,\n        \"num_unique_values\": 1,\n        \"samples\": [\n          1.443404523982841\n        ],\n        \"semantic_type\": \"\",\n        \"description\": \"\"\n      }\n    },\n    {\n      \"column\": \"temp_ratio\",\n      \"properties\": {\n        \"dtype\": \"number\",\n        \"std\": null,\n        \"min\": 0.2503443525739765,\n        \"max\": 0.2503443525739765,\n        \"num_unique_values\": 1,\n        \"samples\": [\n          0.2503443525739765\n        ],\n        \"semantic_type\": \"\",\n        \"description\": \"\"\n      }\n    }\n  ]\n}"
            }
          },
          "metadata": {}
        },
        {
          "output_type": "stream",
          "name": "stdout",
          "text": [
            "\n",
            "Prediction: CONFIRMED\n"
          ]
        }
      ]
    },
    {
      "cell_type": "markdown",
      "source": [
        "# 🔎 SHAP Explainability"
      ],
      "metadata": {
        "id": "gAq9H188tcr3"
      }
    },
    {
      "cell_type": "code",
      "source": [
        "# Extract stacking classifier from the pipeline\n",
        "stacking_clf = pipeline.named_steps[\"clf\"]\n",
        "\n",
        "# Extract best-performing base model (LightGBM)\n",
        "best_model = stacking_clf.named_estimators_[\"lgbm\"]\n",
        "\n",
        "# Extract the preprocessor and transform test data\n",
        "preprocessor = pipeline.named_steps[\"preprocessor\"]\n",
        "X_test_processed = preprocessor.transform(X_test)\n",
        "\n",
        "# Get feature names after preprocessing\n",
        "feature_names = []\n",
        "for name, transformer, features in preprocessor.transformers_:\n",
        "    if hasattr(transformer, 'get_feature_names_out'):\n",
        "        feature_names.extend(transformer.get_feature_names_out(features))\n",
        "    else:\n",
        "        feature_names.extend(features)  # fallback\n",
        "\n",
        "# Convert to DataFrame for SHAP visualization\n",
        "X_test_processed = pd.DataFrame(X_test_processed, columns=feature_names, index=X_test.index)\n",
        "\n",
        "# =========================\n",
        "# Build SHAP Explainer\n",
        "# =========================\n",
        "explainer = shap.TreeExplainer(best_model)\n",
        "shap_values = explainer.shap_values(X_test_processed)\n",
        "\n",
        "# =========================\n",
        "# GLOBAL SHAP (Feature Importance)\n",
        "# =========================\n",
        "plt.title(\"Global Feature Importance (LightGBM)\")\n",
        "if isinstance(shap_values, list):\n",
        "    shap.summary_plot(np.abs(np.array(shap_values)).mean(axis=0), X_test_processed, plot_type=\"bar\")\n",
        "else:\n",
        "    shap.summary_plot(shap_values, X_test_processed, plot_type=\"bar\")\n",
        "plt.show()"
      ],
      "metadata": {
        "colab": {
          "base_uri": "https://localhost:8080/",
          "height": 917
        },
        "id": "velR9kOZ0nxy",
        "outputId": "11a2c077-f49a-4296-d558-d73d33125e48"
      },
      "execution_count": 29,
      "outputs": [
        {
          "output_type": "display_data",
          "data": {
            "text/plain": [
              "<Figure size 800x910 with 1 Axes>"
            ],
            "image/png": "[encoded data removed]"
          },
          "metadata": {}
        }
      ]
    },
    {
      "cell_type": "markdown",
      "source": [
        "`PathFinders`"
      ],
      "metadata": {
        "id": "tlbY8zZzSDHx"
      }
    }
  ]
}
